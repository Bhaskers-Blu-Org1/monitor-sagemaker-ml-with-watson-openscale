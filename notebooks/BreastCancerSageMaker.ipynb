{
 "cells": [
  {
   "cell_type": "markdown",
   "metadata": {},
   "source": [
    "# Predict breast cancer type using SageMaker linear-learner"
   ]
  },
  {
   "cell_type": "markdown",
   "metadata": {},
   "source": [
    "Contents\n",
    "- [0. Setup](#setup)\n",
    "- [1. Introduction](#introduction)\n",
    "- [2. Load and explore data](#load)\n",
    "- [3. Create logistic regression model using SageMaker linear-learner algorithm](#model)\n",
    "- [4. Deploy the model in the AWS Cloud](#deployment)\n",
    "- [5. Score the model](#score)"
   ]
  },
  {
   "cell_type": "markdown",
   "metadata": {},
   "source": [
    "**Note:** This notebook works correctly with kernel `Python 3.5+`."
   ]
  },
  {
   "cell_type": "markdown",
   "metadata": {},
   "source": [
    "<a id=\"setup\"></a>\n",
    "## 0. Setup"
   ]
  },
  {
   "cell_type": "markdown",
   "metadata": {},
   "source": [
    "Before you use the sample code in this notebook, you must perform the following setup tasks:\n",
    "\n",
    "- Create a SageMaker Service, setup steps are described here: https://docs.aws.amazon.com/sagemaker/latest/dg/gs-set-up.html\n",
    "- Install reqiured python packages from PyPi repository"
   ]
  },
  {
   "cell_type": "markdown",
   "metadata": {},
   "source": [
    "### Package installation"
   ]
  },
  {
   "cell_type": "code",
   "execution_count": null,
   "metadata": {
    "collapsed": false
   },
   "outputs": [],
   "source": [
    "!pip install boto3 | tail -n 1\n",
    "!pip install sagemaker | tail -n 1\n",
    "!pip install pandas | tail -n 1\n",
    "!pip install scikit-learn | tail -n 1"
   ]
  },
  {
   "cell_type": "markdown",
   "metadata": {},
   "source": [
    "<a id=\"introduction\"></a>\n",
    "## 1. Introduction\n",
    "\n",
    "This notebook defines, trains, and deploys the model that predicts cancer type."
   ]
  },
  {
   "cell_type": "markdown",
   "metadata": {},
   "source": [
    "<a id=\"load\"></a>\n",
    "## 2. Load and explore data"
   ]
  },
  {
   "cell_type": "markdown",
   "metadata": {},
   "source": [
    "In this section you will load data into a pandas DataFrame and perform a basic exploration. Next you will upload training data to the Amazon S3 Object Storage."
   ]
  },
  {
   "cell_type": "markdown",
   "metadata": {},
   "source": [
    "### 2.1 Load data from webpage"
   ]
  },
  {
   "cell_type": "code",
   "execution_count": null,
   "metadata": {
    "collapsed": true
   },
   "outputs": [],
   "source": [
    "import pandas as pd\n",
    "from sklearn.utils import shuffle"
   ]
  },
  {
   "cell_type": "code",
   "execution_count": null,
   "metadata": {
    "collapsed": true,
    "scrolled": true
   },
   "outputs": [],
   "source": [
    "data = pd.read_csv('https://archive.ics.uci.edu/ml/machine-learning-databases/breast-cancer-wisconsin/wdbc.data', header = None)\n",
    "\n",
    "data.columns = [\"id\",\"diagnosis\",\"radius_mean\",\"texture_mean\",\"perimeter_mean\",\"area_mean\",\"smoothness_mean\",\n",
    "                \"compactness_mean\",\"concavity_mean\",\"concave points_mean\",\"symmetry_mean\",\"fractal_dimension_mean\",\n",
    "                \"radius_se\",\"texture_se\",\"perimeter_se\",\"area_se\",\"smoothness_se\",\"compactness_se\",\"concavity_se\",\n",
    "                \"concave points_se\",\"symmetry_se\",\"fractal_dimension_se\",\"radius_worst\",\"texture_worst\",\n",
    "                \"perimeter_worst\",\"area_worst\",\"smoothness_worst\",\"compactness_worst\",\"concavity_worst\",\n",
    "                \"concave points_worst\",\"symmetry_worst\",\"fractal_dimension_worst\"] "
   ]
  },
  {
   "cell_type": "markdown",
   "metadata": {},
   "source": [
    "### 2.2 Explore data"
   ]
  },
  {
   "cell_type": "code",
   "execution_count": null,
   "metadata": {
    "collapsed": false
   },
   "outputs": [],
   "source": [
    "print(\"Sample records:\")\n",
    "display(data.head())\n",
    "\n",
    "print(\"Features columns summary:\")\n",
    "display(data.iloc[:, 2:].describe())\n",
    "\n",
    "print(\"Label column summary:\")\n",
    "display(data.diagnosis.value_counts())"
   ]
  },
  {
   "cell_type": "markdown",
   "metadata": {},
   "source": [
    "### 2.3 Store training data in S3 Object Storage"
   ]
  },
  {
   "cell_type": "markdown",
   "metadata": {},
   "source": [
    "You will use SageMaker linear-learner built-in algorithm. This algorithm expects the first column to be the label when training data is in `text/csv` format.\n",
    "\n",
    "Moreover, the label column has to be numeric."
   ]
  },
  {
   "cell_type": "markdown",
   "metadata": {},
   "source": [
    "#### Save prepared data to local filesystem"
   ]
  },
  {
   "cell_type": "code",
   "execution_count": null,
   "metadata": {
    "collapsed": false
   },
   "outputs": [],
   "source": [
    "data_shuffled = shuffle(data)\n",
    "data_shuffled.replace({'diagnosis': {'M': 1, 'B': 0}}, inplace = True)\n",
    "display(data_shuffled.head())"
   ]
  },
  {
   "cell_type": "code",
   "execution_count": null,
   "metadata": {
    "collapsed": true
   },
   "outputs": [],
   "source": [
    "train_data_filename = 'breast_cancer.csv'\n",
    "data_shuffled.iloc[:, 1:].to_csv(path_or_buf = train_data_filename, index = False, header = False)"
   ]
  },
  {
   "cell_type": "markdown",
   "metadata": {},
   "source": [
    "**Note:** Header row has to be omitted."
   ]
  },
  {
   "cell_type": "markdown",
   "metadata": {},
   "source": [
    "#### Upload data to S3 Object Storage"
   ]
  },
  {
   "cell_type": "code",
   "execution_count": null,
   "metadata": {
    "collapsed": true
   },
   "outputs": [],
   "source": [
    "import time\n",
    "import json\n",
    "import boto3"
   ]
  },
  {
   "cell_type": "code",
   "execution_count": null,
   "metadata": {
    "collapsed": true
   },
   "outputs": [],
   "source": [
    "aws_credentials = {'access_key': '****', \n",
    "                   'secret_key': '****', \n",
    "                   'region_name': '****'} #i.e. us-east-2"
   ]
  },
  {
   "cell_type": "markdown",
   "metadata": {},
   "source": [
    "**Note:** You have to provide credentials from your Amazon account."
   ]
  },
  {
   "cell_type": "code",
   "execution_count": null,
   "metadata": {
    "collapsed": true
   },
   "outputs": [],
   "source": [
    "session = boto3.Session(\n",
    "    aws_access_key_id = aws_credentials['access_key'],\n",
    "    aws_secret_access_key = aws_credentials['secret_key'],\n",
    "    region_name = aws_credentials['region_name']\n",
    ")\n",
    "s3 = session.resource('s3')"
   ]
  },
  {
   "cell_type": "markdown",
   "metadata": {},
   "source": [
    "#### 2.4 [Create an S3 bucket](https://s3.console.aws.amazon.com/s3) and use the name in the cell below for `bucket_name`.\n",
    "\n"
   ]
  },
  {
   "cell_type": "code",
   "execution_count": null,
   "metadata": {
    "collapsed": true
   },
   "outputs": [],
   "source": [
    "bucket_name = 'XXXXXXXXXXXXXX'\n",
    "train_data_filename = 'breast_cancer.csv'\n",
    "train_data_path = 'breast-cancer/train'\n",
    "output_data_path = 's3://{}/breast-cancer/output'.format(bucket_name)\n",
    "time_suffix = time.strftime(\"%Y-%m-%d-%H-%M\", time.gmtime())"
   ]
  },
  {
   "cell_type": "markdown",
   "metadata": {},
   "source": [
    "**Note:** You have to replace `bucket_name` with name of bucket in your S3 Object Storage. \n",
    "\n",
    "You can run following code `[bkt.name for bkt in s3.buckets.all()]` to list all your buckets."
   ]
  },
  {
   "cell_type": "code",
   "execution_count": null,
   "metadata": {
    "collapsed": true
   },
   "outputs": [],
   "source": [
    "s3_bucket = s3.Bucket(bucket_name)\n",
    "s3_bucket.upload_file(Filename = train_data_filename, Key = '{}/{}'.format(train_data_path, train_data_filename))"
   ]
  },
  {
   "cell_type": "markdown",
   "metadata": {},
   "source": [
    "Let's check if your data has been uploaded successfully."
   ]
  },
  {
   "cell_type": "code",
   "execution_count": null,
   "metadata": {
    "collapsed": false
   },
   "outputs": [],
   "source": [
    "for s3_obj in s3_bucket.objects.all():\n",
    "    if (s3_obj.bucket_name == bucket_name) and (train_data_path in s3_obj.key):\n",
    "        train_data_uri = 's3://{}/{}'.format(s3_obj.bucket_name, s3_obj.key)\n",
    "        print(train_data_uri)"
   ]
  },
  {
   "cell_type": "markdown",
   "metadata": {},
   "source": [
    "<a id=\"model\"></a>\n",
    "## 3. Create logistic regression model using SageMaker linear-learner algorithm\n",
    "\n",
    "In this section you will learn how to:\n",
    "\n",
    "- [3.1 Setup training parameters](#prep)\n",
    "- [3.2 Start training job](#train)"
   ]
  },
  {
   "cell_type": "markdown",
   "metadata": {},
   "source": [
    "<a id=\"prep\"></a>\n",
    "### 3.1 Setup training parameters"
   ]
  },
  {
   "cell_type": "code",
   "execution_count": null,
   "metadata": {
    "collapsed": true
   },
   "outputs": [],
   "source": [
    "from sagemaker.amazon.amazon_estimator import get_image_uri\n",
    "\n",
    "sm_client = session.client('sagemaker')"
   ]
  },
  {
   "cell_type": "code",
   "execution_count": null,
   "metadata": {
    "collapsed": true
   },
   "outputs": [],
   "source": [
    "training_image = get_image_uri(session.region_name, 'linear-learner')\n",
    "\n",
    "iam_client = session.client('iam')\n",
    "[role_arn, *_] = [role['Arn'] for role in iam_client.list_roles()['Roles'] if 'AmazonSageMaker-ExecutionRole' in role['RoleName']]\n",
    "\n",
    "linear_job_name = 'Breast-cancer-linear-learner-' + time_suffix"
   ]
  },
  {
   "cell_type": "code",
   "execution_count": null,
   "metadata": {
    "collapsed": true
   },
   "outputs": [],
   "source": [
    "linear_training_params = {\n",
    "    \"AlgorithmSpecification\": {\n",
    "        \"TrainingImage\": training_image,\n",
    "        \"TrainingInputMode\": \"File\"\n",
    "    },\n",
    "    \"HyperParameters\": {\n",
    "        \"feature_dim\": \"30\",\n",
    "        \"mini_batch_size\": \"100\",\n",
    "        \"predictor_type\": \"binary_classifier\",\n",
    "        \"epochs\": \"10\",\n",
    "        \"num_models\": \"32\",\n",
    "        \"loss\": \"auto\"\n",
    "    },\n",
    "    \"InputDataConfig\": [{\n",
    "        \"ChannelName\": \"train\",\n",
    "        \"ContentType\": \"text/csv\", \n",
    "        \"DataSource\": {\n",
    "            \"S3DataSource\": {\n",
    "                \"S3DataType\": \"S3Prefix\",\n",
    "                \"S3Uri\": train_data_uri,\n",
    "                \"S3DataDistributionType\": \"ShardedByS3Key\"\n",
    "            }\n",
    "        }\n",
    "    }],\n",
    "    \"OutputDataConfig\": {\"S3OutputPath\": output_data_path},\n",
    "    \"ResourceConfig\": {\n",
    "        \"InstanceCount\": 1,\n",
    "        \"InstanceType\": \"ml.c4.xlarge\",\n",
    "        \"VolumeSizeInGB\": 2\n",
    "    },\n",
    "    \"RoleArn\": role_arn,\n",
    "    \"StoppingCondition\": {\n",
    "        \"MaxRuntimeInSeconds\": 6 * 60\n",
    "    },\n",
    "    \"TrainingJobName\": linear_job_name\n",
    "\n",
    "}"
   ]
  },
  {
   "cell_type": "markdown",
   "metadata": {},
   "source": [
    "<a id=\"train\"></a>\n",
    "### 3.2 Start training job"
   ]
  },
  {
   "cell_type": "code",
   "execution_count": null,
   "metadata": {
    "collapsed": false
   },
   "outputs": [],
   "source": [
    "sm_client.create_training_job(**linear_training_params)"
   ]
  },
  {
   "cell_type": "code",
   "execution_count": null,
   "metadata": {
    "collapsed": true
   },
   "outputs": [],
   "source": [
    "try:\n",
    "    sm_client.get_waiter('training_job_completed_or_stopped').wait(TrainingJobName = linear_job_name)\n",
    "except Exception:\n",
    "    print('Traing job error.')"
   ]
  },
  {
   "cell_type": "code",
   "execution_count": null,
   "metadata": {
    "collapsed": false
   },
   "outputs": [],
   "source": [
    "train_job_details = sm_client.describe_training_job(TrainingJobName = linear_job_name)\n",
    "train_job_status = train_job_details['TrainingJobStatus']\n",
    "\n",
    "if train_job_status == 'Failed':\n",
    "    print(train_job_details['FailureReason'])\n",
    "else:\n",
    "    train_job_arn = train_job_details['TrainingJobArn']\n",
    "    print(train_job_arn)\n",
    "    trained_model_uri = train_job_details['ModelArtifacts']['S3ModelArtifacts']\n",
    "    print(trained_model_uri)"
   ]
  },
  {
   "cell_type": "markdown",
   "metadata": {},
   "source": [
    "<a id=\"deployment\"></a>\n",
    "## 4. Deploy model in the AWS Cloud"
   ]
  },
  {
   "cell_type": "markdown",
   "metadata": {},
   "source": [
    "### 4.1 Setup deployment parameters"
   ]
  },
  {
   "cell_type": "code",
   "execution_count": null,
   "metadata": {
    "collapsed": false
   },
   "outputs": [],
   "source": [
    "linear_hosting_container = {'Image': training_image, 'ModelDataUrl': trained_model_uri}\n",
    "\n",
    "create_model_details = sm_client.create_model(\n",
    "    ModelName = linear_job_name,\n",
    "    ExecutionRoleArn = role_arn,\n",
    "    PrimaryContainer = linear_hosting_container)\n",
    "\n",
    "print(create_model_details['ModelArn'])"
   ]
  },
  {
   "cell_type": "markdown",
   "metadata": {},
   "source": [
    "### 4.2 Create deployment configuration endpoint"
   ]
  },
  {
   "cell_type": "code",
   "execution_count": null,
   "metadata": {
    "collapsed": false
   },
   "outputs": [],
   "source": [
    "endpoint_config = 'Breast-cancer-linear-endpoint-config-' + time_suffix\n",
    "print(endpoint_config)\n",
    "\n",
    "create_endpoint_config_details = sm_client.create_endpoint_config(\n",
    "    EndpointConfigName = endpoint_config,\n",
    "    ProductionVariants = [{\n",
    "        'InstanceType': 'ml.m4.xlarge',\n",
    "        'InitialInstanceCount': 1,\n",
    "        'ModelName': linear_job_name,\n",
    "        'VariantName': 'AllTraffic'}])"
   ]
  },
  {
   "cell_type": "code",
   "execution_count": null,
   "metadata": {
    "collapsed": false
   },
   "outputs": [],
   "source": [
    "endpoint_config_details = sm_client.describe_endpoint_config(EndpointConfigName = endpoint_config)\n",
    "print(endpoint_config_details)"
   ]
  },
  {
   "cell_type": "markdown",
   "metadata": {},
   "source": [
    "### 4.3 Create scoring endpoint"
   ]
  },
  {
   "cell_type": "code",
   "execution_count": null,
   "metadata": {
    "collapsed": true
   },
   "outputs": [],
   "source": [
    "scoring_endpoint = 'Breast-cancer-endpoint-scoring-' + time_suffix\n",
    "\n",
    "create_endpoint_details = sm_client.create_endpoint(\n",
    "    EndpointName = scoring_endpoint,\n",
    "    EndpointConfigName = endpoint_config)"
   ]
  },
  {
   "cell_type": "code",
   "execution_count": null,
   "metadata": {
    "collapsed": true
   },
   "outputs": [],
   "source": [
    "try:\n",
    "    sm_client.get_waiter('endpoint_in_service').wait(EndpointName = scoring_endpoint)\n",
    "except Exception:\n",
    "    print('Create scoring endpoint error')"
   ]
  },
  {
   "cell_type": "code",
   "execution_count": null,
   "metadata": {
    "collapsed": false
   },
   "outputs": [],
   "source": [
    "scoring_endpoint_details = sm_client.describe_endpoint(EndpointName = scoring_endpoint)\n",
    "scoring_enpoint_config_status = scoring_endpoint_details['EndpointStatus']\n",
    "if scoring_enpoint_config_status != 'InService':\n",
    "    print(scoring_endpoint_details['FailureReason'])\n",
    "else:\n",
    "    print(scoring_endpoint_details['EndpointArn'])"
   ]
  },
  {
   "cell_type": "markdown",
   "metadata": {},
   "source": [
    "<a id=\"score\"></a>\n",
    "## 5. Score the model"
   ]
  },
  {
   "cell_type": "markdown",
   "metadata": {},
   "source": [
    "### 5.1 Prepare sample data for scoring"
   ]
  },
  {
   "cell_type": "markdown",
   "metadata": {},
   "source": [
    "You will use data in `csv` format as the scoring payload. The first column (label) is removed from the data and the last 20 training records are selected."
   ]
  },
  {
   "cell_type": "code",
   "execution_count": null,
   "metadata": {
    "collapsed": true
   },
   "outputs": [],
   "source": [
    "scoring_data_filename = 'scoring_breast_cancer.csv'"
   ]
  },
  {
   "cell_type": "code",
   "execution_count": null,
   "metadata": {
    "collapsed": true
   },
   "outputs": [],
   "source": [
    "with open(train_data_filename) as f_train:\n",
    "    with open(scoring_data_filename, 'w') as f_score:\n",
    "        f_score.writelines([','.join(line.split(',')[1:]) for line in f_train.readlines()[-20:]])"
   ]
  },
  {
   "cell_type": "markdown",
   "metadata": {},
   "source": [
    "### 5.2 Send data for scoring"
   ]
  },
  {
   "cell_type": "code",
   "execution_count": null,
   "metadata": {
    "collapsed": false
   },
   "outputs": [],
   "source": [
    "sm_runtime = session.client('runtime.sagemaker')\n",
    "\n",
    "with open(scoring_data_filename) as f_payload:\n",
    "    scoring_response = sm_runtime.invoke_endpoint(EndpointName = scoring_endpoint,\n",
    "                                                  ContentType = 'text/csv',\n",
    "                                                  Body = f_payload.read().encode())\n",
    "    \n",
    "    scored_records = scoring_response['Body'].read().decode()\n",
    "    print(json.loads(scored_records))"
   ]
  },
  {
   "cell_type": "markdown",
   "metadata": {},
   "source": [
    "### Authors\n",
    "\n",
    "Wojciech Sobala, Data Scientist at IBM"
   ]
  }
 ],
 "metadata": {
  "anaconda-cloud": {},
  "kernelspec": {
   "display_name": "Python 3",
   "language": "python",
   "name": "python3"
  },
  "language_info": {
   "codemirror_mode": {
    "name": "ipython",
    "version": 3
   },
   "file_extension": ".py",
   "mimetype": "text/x-python",
   "name": "python",
   "nbconvert_exporter": "python",
   "pygments_lexer": "ipython3",
   "version": "3.6.5"
  }
 },
 "nbformat": 4,
 "nbformat_minor": 2
}
