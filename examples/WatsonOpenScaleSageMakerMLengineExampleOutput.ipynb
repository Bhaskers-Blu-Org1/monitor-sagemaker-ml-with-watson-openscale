{
 "cells": [
  {
   "cell_type": "markdown",
   "metadata": {},
   "source": [
    "<img src=\"https://github.com/pmservice/ai-openscale-tutorials/raw/master/notebooks/images/banner.png\" align=\"left\" alt=\"banner\">"
   ]
  },
  {
   "cell_type": "markdown",
   "metadata": {},
   "source": [
    "# Working with SageMaker Machine Learning engine"
   ]
  },
  {
   "cell_type": "markdown",
   "metadata": {},
   "source": [
    "This notebook shows how to log the payload for a model deployed on SageMaker using Watson OpenScale python sdk."
   ]
  },
  {
   "cell_type": "markdown",
   "metadata": {},
   "source": [
    "Contents\n",
    "- [1. Setup](#setup)\n",
    "- [2. Binding machine learning engine](#binding)\n",
    "- [3. Subscriptions](#subscription)\n",
    "- [4. Scoring and payload logging](#scoring)\n",
    "- [5. Feedback logging](#feedback)\n",
    "- [6. Data Mart](#datamart)"
   ]
  },
  {
   "cell_type": "markdown",
   "metadata": {},
   "source": [
    "<a id=\"setup\"></a>\n",
    "## 1. Setup"
   ]
  },
  {
   "cell_type": "markdown",
   "metadata": {},
   "source": [
    "### 1.0 Sample model creation using [Amazon SageMaker](https://aws.amazon.com/sagemaker/)"
   ]
  },
  {
   "cell_type": "markdown",
   "metadata": {},
   "source": [
    "### 1.1 Installation and authentication"
   ]
  },
  {
   "cell_type": "code",
   "execution_count": 51,
   "metadata": {},
   "outputs": [
    {
     "name": "stdout",
     "output_type": "stream",
     "text": [
      "Requirement already satisfied: docker-pycreds>=0.4.0 in ./.pyenv/versions/3.6.5/lib/python3.6/site-packages (from docker<4.0,>=3.6.0->docker-compose>=1.23.0->sagemaker) (0.4.0)\n"
     ]
    }
   ],
   "source": [
    "!pip install sagemaker --no-cache | tail -n 1"
   ]
  },
  {
   "cell_type": "code",
   "execution_count": 52,
   "metadata": {},
   "outputs": [
    {
     "name": "stdout",
     "output_type": "stream",
     "text": [
      "Requirement already satisfied, skipping upgrade: docutils>=0.10 in ./.pyenv/versions/3.6.5/lib/python3.6/site-packages (from ibm-cos-sdk-core==2.*,>=2.0.0->ibm-cos-sdk->watson-machine-learning-client->ibm-ai-openscale) (0.14)\n"
     ]
    }
   ],
   "source": [
    "!pip install ibm-ai-openscale==1.0.429 --no-cache | tail -n 1"
   ]
  },
  {
   "cell_type": "markdown",
   "metadata": {},
   "source": [
    "### **Action:** Restart the kernel."
   ]
  },
  {
   "cell_type": "markdown",
   "metadata": {},
   "source": [
    "Import and initiate."
   ]
  },
  {
   "cell_type": "code",
   "execution_count": 53,
   "metadata": {},
   "outputs": [],
   "source": [
    "from ibm_ai_openscale import APIClient\n",
    "from ibm_ai_openscale.supporting_classes import PayloadRecord\n",
    "from ibm_ai_openscale.supporting_classes.enums import InputDataType, ProblemType\n",
    "from ibm_ai_openscale.engines import *\n",
    "from ibm_ai_openscale.utils import *"
   ]
  },
  {
   "cell_type": "markdown",
   "metadata": {},
   "source": [
    "#### ACTION: Get Watson OpenScale `instance_guid` and `apikey`\n",
    "\n",
    "How to install IBM Cloud (bluemix) console: [instruction](https://console.bluemix.net/docs/cli/reference/ibmcloud/download_cli.html#install_use)\n",
    "\n",
    "How to get api key using bluemix console:\n",
    "```\n",
    "ibmcloud login --sso\n",
    "ibmcloud iam api-key-create 'my_key'\n",
    "```\n",
    "\n",
    "How to get your Watson OpenScale instance GUID\n",
    "\n",
    "- if your resource group is different than `default` switch to resource group containing Watson OpenScale instance\n",
    "```\n",
    "ibmcloud target -g <myResourceGroup>\n",
    "```\n",
    "- get details of the instance\n",
    "```\n",
    "ibmcloud resource service-instance 'Watson-OpenScale-instance_name'\n",
    "```"
   ]
  },
  {
   "cell_type": "markdown",
   "metadata": {},
   "source": [
    "#### Let's define some constants required to set up data mart:\n",
    "\n",
    "- WATSON_OS_CREDENTIALS\n",
    "- POSTGRES_CREDENTIALS\n",
    "- SCHEMA_NAME"
   ]
  },
  {
   "cell_type": "code",
   "execution_count": 59,
   "metadata": {},
   "outputs": [],
   "source": [
    "WATSON_OS_CREDENTIALS = {\n",
    "  \"url\": \"https://api.aiopenscale.cloud.ibm.com\",\n",
    "  \"instance_guid\": \"*****\",\n",
    "  \"apikey\": \"*****\"\n",
    "}"
   ]
  },
  {
   "cell_type": "code",
   "execution_count": 55,
   "metadata": {},
   "outputs": [],
   "source": [
    "POSTGRES_CREDENTIALS = {\n",
    "    \"db_type\": \"postgresql\",\n",
    "    \"uri_cli_1\": \"xxx\",\n",
    "    \"maps\": [],\n",
    "    \"instance_administration_api\": {\n",
    "        \"instance_id\": \"xxx\",\n",
    "        \"root\": \"xxx\",\n",
    "        \"deployment_id\": \"xxx\"\n",
    "    },\n",
    "    \"name\": \"xxx\",\n",
    "    \"uri_cli\": \"xxx\",\n",
    "    \"uri_direct_1\": \"xxx\",\n",
    "    \"ca_certificate_base64\": \"xxx\",\n",
    "    \"deployment_id\": \"xxx\",\n",
    "    \"uri\": \"xxx\"\n",
    "}"
   ]
  },
  {
   "cell_type": "code",
   "execution_count": 56,
   "metadata": {},
   "outputs": [],
   "source": [
    "SCHEMA_NAME = 'data_mart_for_aws_sagemaker'"
   ]
  },
  {
   "cell_type": "markdown",
   "metadata": {},
   "source": [
    "Create the schema for data mart."
   ]
  },
  {
   "cell_type": "code",
   "execution_count": 57,
   "metadata": {},
   "outputs": [],
   "source": [
    "create_postgres_schema(postgres_credentials=POSTGRES_CREDENTIALS, schema_name=SCHEMA_NAME)"
   ]
  },
  {
   "cell_type": "code",
   "execution_count": 60,
   "metadata": {},
   "outputs": [],
   "source": [
    "client = APIClient(WATSON_OS_CREDENTIALS)"
   ]
  },
  {
   "cell_type": "code",
   "execution_count": 61,
   "metadata": {},
   "outputs": [
    {
     "data": {
      "text/plain": [
       "'1.0.429'"
      ]
     },
     "execution_count": 61,
     "metadata": {},
     "output_type": "execute_result"
    }
   ],
   "source": [
    "client.version"
   ]
  },
  {
   "cell_type": "markdown",
   "metadata": {},
   "source": [
    "### 1.2 DataMart setup"
   ]
  },
  {
   "cell_type": "code",
   "execution_count": 63,
   "metadata": {},
   "outputs": [],
   "source": [
    "client.data_mart.setup(db_credentials=POSTGRES_CREDENTIALS, schema=SCHEMA_NAME)"
   ]
  },
  {
   "cell_type": "code",
   "execution_count": 64,
   "metadata": {},
   "outputs": [],
   "source": [
    "data_mart_details = client.data_mart.get_details()"
   ]
  },
  {
   "cell_type": "markdown",
   "metadata": {},
   "source": [
    "<a id=\"binding\"></a>\n",
    "## 2. Bind machine learning engines"
   ]
  },
  {
   "cell_type": "markdown",
   "metadata": {},
   "source": [
    "### 2.1 Bind  `SageMaker` machine learning engine\n",
    "\n",
    "Provide credentials using the following fields:\n",
    "- `access_key_id`\n",
    "- `secret_access_key`\n",
    "- `region`"
   ]
  },
  {
   "cell_type": "code",
   "execution_count": 65,
   "metadata": {},
   "outputs": [],
   "source": [
    "SAGEMAKER_ENGINE_CREDENTIALS = {'access_key': '****',\n",
    "                   'secret_key': '****',\n",
    "                   'region_name': '****'} #i.e. us-east-2"
   ]
  },
  {
   "cell_type": "code",
   "execution_count": 66,
   "metadata": {},
   "outputs": [],
   "source": [
    "binding_uid = client.data_mart.bindings.add('My SageMaker engine', SageMakerMachineLearningInstance(SAGEMAKER_ENGINE_CREDENTIALS))"
   ]
  },
  {
   "cell_type": "code",
   "execution_count": 67,
   "metadata": {},
   "outputs": [],
   "source": [
    "bindings_details = client.data_mart.bindings.get_details()"
   ]
  },
  {
   "cell_type": "code",
   "execution_count": 68,
   "metadata": {},
   "outputs": [
    {
     "data": {
      "text/html": [
       "<HTML>\n",
       "        <body>\n",
       "            <h3>Service bindings</h3>\n",
       "            <table style='border: 1px solid #dddddd; font-family: Courier'>\n",
       "                <th style='border: 1px solid #dddddd'>uid</th><th style='border: 1px solid #dddddd'>name</th><th style='border: 1px solid #dddddd'>service_type</th><th style='border: 1px solid #dddddd'>created</th>\n",
       "                <tr><td style='border: 1px solid #dddddd'>152fdb6f-4c8c-43cc-b2e4-73cf388844ef</td><td style='border: 1px solid #dddddd'>My SageMaker engine</td><td style='border: 1px solid #dddddd'>amazon_sagemaker</td><td style='border: 1px solid #dddddd'>2019-01-28T16:45:28.500Z</td></tr>\n",
       "            </table>\n",
       "        </body>\n",
       "        </HTML>"
      ],
      "text/plain": [
       "<IPython.core.display.HTML object>"
      ]
     },
     "metadata": {},
     "output_type": "display_data"
    }
   ],
   "source": [
    "client.data_mart.bindings.list()"
   ]
  },
  {
   "cell_type": "markdown",
   "metadata": {},
   "source": [
    "<a id=\"subsciption\"></a>\n",
    "## 3. Subscriptions"
   ]
  },
  {
   "cell_type": "markdown",
   "metadata": {},
   "source": [
    "### 3.1 Add subscriptions"
   ]
  },
  {
   "cell_type": "markdown",
   "metadata": {},
   "source": [
    "List available deployments.\n",
    "\n",
    "**Note:** Depending on the number of assets, it may take some time."
   ]
  },
  {
   "cell_type": "code",
   "execution_count": 69,
   "metadata": {},
   "outputs": [
    {
     "data": {
      "text/html": [
       "<HTML>\n",
       "        <body>\n",
       "            <h3>Available assets</h3>\n",
       "            <table style='border: 1px solid #dddddd; font-family: Courier'>\n",
       "                <th style='border: 1px solid #dddddd'>source_uid</th><th style='border: 1px solid #dddddd'>name</th><th style='border: 1px solid #dddddd'>created</th><th style='border: 1px solid #dddddd'>type</th><th style='border: 1px solid #dddddd'>frameworks</th><th style='border: 1px solid #dddddd'>binding_uid</th><th style='border: 1px solid #dddddd'>is_subscribed</th>\n",
       "                <tr><td style='border: 1px solid #dddddd'>70b2a1a8cb6b8950ffd2b65afb9236de</td><td style='border: 1px solid #dddddd'>Breast-cancer-linear-learner-2019-01-28-16-13</td><td style='border: 1px solid #dddddd'>2019-01-28T16:19:02.652Z</td><td style='border: 1px solid #dddddd'>model</td><td style='border: 1px solid #dddddd'></td><td style='border: 1px solid #dddddd'>152fdb6f-4c8c-43cc-b2e4-73cf388844ef</td><td style='border: 1px solid #dddddd'>False</td></tr><tr><td style='border: 1px solid #dddddd'>1e97982799d7bae6a15f5c98f79d601c</td><td style='border: 1px solid #dddddd'>GoSales-linear-binary-classifier-2019-01-22-03-04-36</td><td style='border: 1px solid #dddddd'>2019-01-22T03:08:37.167Z</td><td style='border: 1px solid #dddddd'>model</td><td style='border: 1px solid #dddddd'></td><td style='border: 1px solid #dddddd'>152fdb6f-4c8c-43cc-b2e4-73cf388844ef</td><td style='border: 1px solid #dddddd'>False</td></tr><tr><td style='border: 1px solid #dddddd'>b9231df5c2fe47bd5ed5d8a25cd84366</td><td style='border: 1px solid #dddddd'>Product-line-linear-learner-2019-01-21-17-56</td><td style='border: 1px solid #dddddd'>2019-01-21T18:04:39.969Z</td><td style='border: 1px solid #dddddd'>model</td><td style='border: 1px solid #dddddd'></td><td style='border: 1px solid #dddddd'>152fdb6f-4c8c-43cc-b2e4-73cf388844ef</td><td style='border: 1px solid #dddddd'>False</td></tr><tr><td style='border: 1px solid #dddddd'>39dbc78bd91473aae1494627e297c9e3</td><td style='border: 1px solid #dddddd'>linear-learner-2019-01-16-14-39-18-576</td><td style='border: 1px solid #dddddd'>2019-01-16T14:39:18.653Z</td><td style='border: 1px solid #dddddd'>model</td><td style='border: 1px solid #dddddd'></td><td style='border: 1px solid #dddddd'>152fdb6f-4c8c-43cc-b2e4-73cf388844ef</td><td style='border: 1px solid #dddddd'>False</td></tr><tr><td style='border: 1px solid #dddddd'>86eae234d9e3655e67a1f6c24b5c0aea</td><td style='border: 1px solid #dddddd'>xgboost-2019-01-09-09-56-05-050</td><td style='border: 1px solid #dddddd'>2019-01-09T09:56:05.180Z</td><td style='border: 1px solid #dddddd'>model</td><td style='border: 1px solid #dddddd'></td><td style='border: 1px solid #dddddd'>152fdb6f-4c8c-43cc-b2e4-73cf388844ef</td><td style='border: 1px solid #dddddd'>False</td></tr><tr><td style='border: 1px solid #dddddd'>e27ca462d33209d04f326a576bd6c380</td><td style='border: 1px solid #dddddd'>xgboost-2019-01-09-03-33-14-252</td><td style='border: 1px solid #dddddd'>2019-01-09T03:33:14.391Z</td><td style='border: 1px solid #dddddd'>model</td><td style='border: 1px solid #dddddd'></td><td style='border: 1px solid #dddddd'>152fdb6f-4c8c-43cc-b2e4-73cf388844ef</td><td style='border: 1px solid #dddddd'>False</td></tr><tr><td style='border: 1px solid #dddddd'>ec8e2b0c24dcc141f0d3e98f7fc3895f</td><td style='border: 1px solid #dddddd'>GoSales-linear-binary-classifier-2019-01-07-14-31-14</td><td style='border: 1px solid #dddddd'>2019-01-07T14:35:21.457Z</td><td style='border: 1px solid #dddddd'>model</td><td style='border: 1px solid #dddddd'></td><td style='border: 1px solid #dddddd'>152fdb6f-4c8c-43cc-b2e4-73cf388844ef</td><td style='border: 1px solid #dddddd'>False</td></tr><tr><td style='border: 1px solid #dddddd'>e2bd79e9359e07ce8a679cbebb67ec11</td><td style='border: 1px solid #dddddd'>DEMO-linear-DPJC</td><td style='border: 1px solid #dddddd'>2018-12-14T12:14:40.485Z</td><td style='border: 1px solid #dddddd'>model</td><td style='border: 1px solid #dddddd'></td><td style='border: 1px solid #dddddd'>152fdb6f-4c8c-43cc-b2e4-73cf388844ef</td><td style='border: 1px solid #dddddd'>False</td></tr><tr><td style='border: 1px solid #dddddd'>6455e8fd08d6a178695bda476bfd97cb</td><td style='border: 1px solid #dddddd'>DEMO-videogames-xgboost-2018-12-13-16-17-39</td><td style='border: 1px solid #dddddd'>2018-12-13T16:21:41.249Z</td><td style='border: 1px solid #dddddd'>model</td><td style='border: 1px solid #dddddd'></td><td style='border: 1px solid #dddddd'>152fdb6f-4c8c-43cc-b2e4-73cf388844ef</td><td style='border: 1px solid #dddddd'>False</td></tr><tr><td style='border: 1px solid #dddddd'>31320550c76c987cb00a3642a83e287e</td><td style='border: 1px solid #dddddd'>arsuryan-product-line-mc-linear-2018-12-12-18-23-12</td><td style='border: 1px solid #dddddd'>2018-12-12T18:27:58.878Z</td><td style='border: 1px solid #dddddd'>model</td><td style='border: 1px solid #dddddd'></td><td style='border: 1px solid #dddddd'>152fdb6f-4c8c-43cc-b2e4-73cf388844ef</td><td style='border: 1px solid #dddddd'>False</td></tr><tr><td style='border: 1px solid #dddddd'>d2c991680ad36cd65886745d656cd440</td><td style='border: 1px solid #dddddd'>DEMO-linear-2018-12-06-15-44-46</td><td style='border: 1px solid #dddddd'>2018-12-06T16:04:30.073Z</td><td style='border: 1px solid #dddddd'>model</td><td style='border: 1px solid #dddddd'></td><td style='border: 1px solid #dddddd'>152fdb6f-4c8c-43cc-b2e4-73cf388844ef</td><td style='border: 1px solid #dddddd'>False</td></tr><tr><td style='border: 1px solid #dddddd'>f2f5361ef6cd6938720a5c3eb755e4be</td><td style='border: 1px solid #dddddd'>xgboost-2018-12-06-12-57-23-468</td><td style='border: 1px solid #dddddd'>2018-12-06T12:57:23.609Z</td><td style='border: 1px solid #dddddd'>model</td><td style='border: 1px solid #dddddd'></td><td style='border: 1px solid #dddddd'>152fdb6f-4c8c-43cc-b2e4-73cf388844ef</td><td style='border: 1px solid #dddddd'>False</td></tr><tr><td style='border: 1px solid #dddddd'>2deeabec52f76aeedfbca37fbea5ce50</td><td style='border: 1px solid #dddddd'>DEMO-linear-binary-classifier-2018-12-05-09-21-20</td><td style='border: 1px solid #dddddd'>2018-12-05T09:31:41.962Z</td><td style='border: 1px solid #dddddd'>model</td><td style='border: 1px solid #dddddd'></td><td style='border: 1px solid #dddddd'>152fdb6f-4c8c-43cc-b2e4-73cf388844ef</td><td style='border: 1px solid #dddddd'>False</td></tr><tr><td style='border: 1px solid #dddddd'>c83505c7ab2f749c542627afb07760c8</td><td style='border: 1px solid #dddddd'>kmeans-2018-12-05-06-27-43-947</td><td style='border: 1px solid #dddddd'>2018-12-05T06:27:44.096Z</td><td style='border: 1px solid #dddddd'>model</td><td style='border: 1px solid #dddddd'></td><td style='border: 1px solid #dddddd'>152fdb6f-4c8c-43cc-b2e4-73cf388844ef</td><td style='border: 1px solid #dddddd'>False</td></tr><tr><td style='border: 1px solid #dddddd'>bf2a7c2b4b076600119e4ce04e14830c</td><td style='border: 1px solid #dddddd'>blazingtext-2018-11-29-20-31-53-686</td><td style='border: 1px solid #dddddd'>2018-11-29T20:31:53.813Z</td><td style='border: 1px solid #dddddd'>model</td><td style='border: 1px solid #dddddd'></td><td style='border: 1px solid #dddddd'>152fdb6f-4c8c-43cc-b2e4-73cf388844ef</td><td style='border: 1px solid #dddddd'>False</td></tr><tr><td style='border: 1px solid #dddddd'>779e351df35d82b0c057a344b755e7b4</td><td style='border: 1px solid #dddddd'>factorization-machines-2018-11-29-12-23-12-490</td><td style='border: 1px solid #dddddd'>2018-11-29T12:23:12.651Z</td><td style='border: 1px solid #dddddd'>model</td><td style='border: 1px solid #dddddd'></td><td style='border: 1px solid #dddddd'>152fdb6f-4c8c-43cc-b2e4-73cf388844ef</td><td style='border: 1px solid #dddddd'>False</td></tr><tr><td style='border: 1px solid #dddddd'>9742b71413c0feefe6de831afc8775ca</td><td style='border: 1px solid #dddddd'>linear-learner-2018-11-29-05-37-34-440</td><td style='border: 1px solid #dddddd'>2018-11-29T05:37:34.555Z</td><td style='border: 1px solid #dddddd'>model</td><td style='border: 1px solid #dddddd'></td><td style='border: 1px solid #dddddd'>152fdb6f-4c8c-43cc-b2e4-73cf388844ef</td><td style='border: 1px solid #dddddd'>False</td></tr><tr><td style='border: 1px solid #dddddd'>f79dec934e4b17a038692c435f0eb8a3</td><td style='border: 1px solid #dddddd'>DEMO-linear-binary-classifier-2018-11-28-16-41-38</td><td style='border: 1px solid #dddddd'>2018-11-28T16:45:55.503Z</td><td style='border: 1px solid #dddddd'>model</td><td style='border: 1px solid #dddddd'></td><td style='border: 1px solid #dddddd'>152fdb6f-4c8c-43cc-b2e4-73cf388844ef</td><td style='border: 1px solid #dddddd'>False</td></tr><tr><td style='border: 1px solid #dddddd'>2b7835757a683f442c1393c4c3d68728</td><td style='border: 1px solid #dddddd'>DEMO-linear-2018-10-09-07-08-52</td><td style='border: 1px solid #dddddd'>2018-10-09T07:16:20.717Z</td><td style='border: 1px solid #dddddd'>model</td><td style='border: 1px solid #dddddd'></td><td style='border: 1px solid #dddddd'>152fdb6f-4c8c-43cc-b2e4-73cf388844ef</td><td style='border: 1px solid #dddddd'>False</td></tr>\n",
       "            </table>\n",
       "        </body>\n",
       "        </HTML>"
      ],
      "text/plain": [
       "<IPython.core.display.HTML object>"
      ]
     },
     "metadata": {},
     "output_type": "display_data"
    }
   ],
   "source": [
    "client.data_mart.bindings.list_assets()"
   ]
  },
  {
   "cell_type": "markdown",
   "metadata": {},
   "source": [
    "**Action:** Assign your source_uid to `source_uid` variable below."
   ]
  },
  {
   "cell_type": "code",
   "execution_count": 72,
   "metadata": {},
   "outputs": [],
   "source": [
    "source_uid = '70b2a1a8cb6b8950ffd2b65afb9236de'"
   ]
  },
  {
   "cell_type": "code",
   "execution_count": 73,
   "metadata": {},
   "outputs": [],
   "source": [
    "subscription = client.data_mart.subscriptions.add(\n",
    "    SageMakerMachineLearningAsset(\n",
    "                source_uid=source_uid,\n",
    "                binding_uid=binding_uid,\n",
    "                input_data_type=InputDataType.STRUCTURED,\n",
    "                problem_type=ProblemType.MULTICLASS_CLASSIFICATION,\n",
    "                label_column='diagnosis',\n",
    "                probability_column='score',\n",
    "                prediction_column='predicted_label'))"
   ]
  },
  {
   "cell_type": "markdown",
   "metadata": {},
   "source": [
    "#### Get subscriptions list"
   ]
  },
  {
   "cell_type": "code",
   "execution_count": 74,
   "metadata": {},
   "outputs": [],
   "source": [
    "subscriptions = client.data_mart.subscriptions.get_details()"
   ]
  },
  {
   "cell_type": "code",
   "execution_count": 75,
   "metadata": {},
   "outputs": [
    {
     "name": "stdout",
     "output_type": "stream",
     "text": [
      "['70b2a1a8cb6b8950ffd2b65afb9236de']\n"
     ]
    }
   ],
   "source": [
    "subscriptions_uids = client.data_mart.subscriptions.get_uids()\n",
    "print(subscriptions_uids)"
   ]
  },
  {
   "cell_type": "markdown",
   "metadata": {},
   "source": [
    "#### List subscriptions"
   ]
  },
  {
   "cell_type": "code",
   "execution_count": 76,
   "metadata": {},
   "outputs": [
    {
     "data": {
      "text/html": [
       "<HTML>\n",
       "        <body>\n",
       "            <h3>Subscriptions</h3>\n",
       "            <table style='border: 1px solid #dddddd; font-family: Courier'>\n",
       "                <th style='border: 1px solid #dddddd'>uid</th><th style='border: 1px solid #dddddd'>name</th><th style='border: 1px solid #dddddd'>type</th><th style='border: 1px solid #dddddd'>binding_uid</th><th style='border: 1px solid #dddddd'>created</th>\n",
       "                <tr><td style='border: 1px solid #dddddd'>70b2a1a8cb6b8950ffd2b65afb9236de</td><td style='border: 1px solid #dddddd'>Breast-cancer-linear-learner-2019-01-28-16-13</td><td style='border: 1px solid #dddddd'>model</td><td style='border: 1px solid #dddddd'>152fdb6f-4c8c-43cc-b2e4-73cf388844ef</td><td style='border: 1px solid #dddddd'>2019-01-28T16:46:46.542Z</td></tr>\n",
       "            </table>\n",
       "        </body>\n",
       "        </HTML>"
      ],
      "text/plain": [
       "<IPython.core.display.HTML object>"
      ]
     },
     "metadata": {},
     "output_type": "display_data"
    }
   ],
   "source": [
    "client.data_mart.subscriptions.list()"
   ]
  },
  {
   "cell_type": "markdown",
   "metadata": {},
   "source": [
    "<a id=\"scoring\"></a>\n",
    "## 4. Scoring and payload logging"
   ]
  },
  {
   "cell_type": "markdown",
   "metadata": {},
   "source": [
    "### 4.1 Score the product line model and measure response time"
   ]
  },
  {
   "cell_type": "code",
   "execution_count": 77,
   "metadata": {},
   "outputs": [
    {
     "name": "stdout",
     "output_type": "stream",
     "text": [
      "{\n",
      "  \"predictions\": [\n",
      "    {\n",
      "      \"score\": 1.0,\n",
      "      \"predicted_label\": 1.0\n",
      "    },\n",
      "    {\n",
      "      \"score\": 1.0,\n",
      "      \"predicted_label\": 1.0\n",
      "    }\n",
      "  ]\n",
      "}\n"
     ]
    }
   ],
   "source": [
    "import requests\n",
    "import time\n",
    "import json\n",
    "import boto3\n",
    "\n",
    "binding_details = client.data_mart.bindings.get_details(binding_uid=binding_uid)\n",
    "subscription_details = subscription.get_details()\n",
    "\n",
    "access_id = binding_details['entity']['credentials']['access_key_id']\n",
    "access_key = binding_details['entity']['credentials']['secret_access_key']\n",
    "region = binding_details['entity']['credentials']['region']\n",
    "endpoint_name = subscription_details['entity']['deployments'][0]['name']\n",
    "runtime = boto3.client('sagemaker-runtime', region_name=region, aws_access_key_id=access_id, aws_secret_access_key=access_key)\n",
    "\n",
    "fields = ['radius_mean', 'texture_mean', 'perimeter_mean', 'area_mean', 'smoothness_mean', 'compactness_mean',\n",
    "          'concavity_mean', 'concave points_mean', 'symmetry_mean', 'fractal_dimension_mean', 'radius_se',\n",
    "          'texture_se', 'perimeter_se', 'area_se', 'smoothness_se', 'compactness_se', 'concavity_se',\n",
    "          'concave points_se', 'symmetry_se', 'fractal_dimension_se', 'radius_worst', 'texture_worst',\n",
    "          'perimeter_worst', 'area_worst', 'smoothness_worst', 'compactness_worst', 'concavity_worst',\n",
    "          'concave points_worst', 'symmetry_worst', 'fractal_dimension_worst']\n",
    "        \n",
    "payload = \"17.02,23.98,112.8,899.3,0.1197,0.1496,0.2417,0.1203,0.2248,0.06382,0.6009,1.398,3.999,67.78,0.008268,0.03082,0.05042,0.01112,0.02102,0.003854,20.88,32.09,136.1,1344,0.1634,0.3559,0.5588,0.1847,0.353,0.08482\\n17.02,23.98,112.8,899.3,0.1197,0.1496,0.2417,0.1203,0.2248,0.06382,0.6009,1.398,3.999,67.78,0.008268,0.03082,0.05042,0.01112,0.02102,0.003854,20.88,32.09,136.1,1344,0.1634,0.3559,0.5588,0.1847,0.353,0.08482\"\n",
    "\n",
    "start_time = time.time()\n",
    "response = runtime.invoke_endpoint(EndpointName=endpoint_name, ContentType='text/csv', Body=payload)\n",
    "response_time = int((time.time() - start_time)*1000)\n",
    "result = json.loads(response['Body'].read().decode())\n",
    "\n",
    "print(json.dumps(result, indent=2))"
   ]
  },
  {
   "cell_type": "markdown",
   "metadata": {},
   "source": [
    "### 4.2 Store the request and response in payload logging table"
   ]
  },
  {
   "cell_type": "markdown",
   "metadata": {},
   "source": [
    "#### Transform the model's input and output to the format compatible with Watson OpenScale standard."
   ]
  },
  {
   "cell_type": "code",
   "execution_count": 78,
   "metadata": {},
   "outputs": [],
   "source": [
    "values = []\n",
    "\n",
    "for v in payload.split('\\n'):\n",
    "    values.append([float(s) for s in v.split(',')])\n",
    "\n",
    "request_data = {'fields': fields, 'values': values}\n",
    "\n",
    "response_data = {'fields': list(result['predictions'][0]),\n",
    "            'values': [list(x.values()) for x in result['predictions']]}"
   ]
  },
  {
   "cell_type": "markdown",
   "metadata": {},
   "source": [
    "#### Store the payload using Python SDK"
   ]
  },
  {
   "cell_type": "markdown",
   "metadata": {},
   "source": [
    "**Hint:** You can embed payload logging code into your custom deployment so it is logged automatically each time you score the model."
   ]
  },
  {
   "cell_type": "code",
   "execution_count": 79,
   "metadata": {},
   "outputs": [],
   "source": [
    "records_list = [PayloadRecord(request=request_data, response=response_data, response_time=response_time), \n",
    "                PayloadRecord(request=request_data, response=response_data, response_time=response_time)]\n",
    "\n",
    "for i in range(1, 10):\n",
    "    records_list.append(PayloadRecord(request=request_data, response=response_data, response_time=response_time))\n",
    "\n",
    "subscription.payload_logging.store(records=records_list)"
   ]
  },
  {
   "cell_type": "markdown",
   "metadata": {},
   "source": [
    "#### Store the payload using REST API"
   ]
  },
  {
   "cell_type": "markdown",
   "metadata": {},
   "source": [
    "Get the token first."
   ]
  },
  {
   "cell_type": "code",
   "execution_count": 80,
   "metadata": {},
   "outputs": [],
   "source": [
    "token_endpoint = \"https://iam.bluemix.net/identity/token\"\n",
    "headers = {\n",
    "    \"Content-Type\": \"application/x-www-form-urlencoded\",\n",
    "    \"Accept\": \"application/json\"\n",
    "}\n",
    "\n",
    "data = {\n",
    "    \"grant_type\":\"urn:ibm:params:oauth:grant-type:apikey\",\n",
    "    \"apikey\":WATSON_OS_CREDENTIALS[\"apikey\"]\n",
    "}\n",
    "\n",
    "req = requests.post(token_endpoint, data=data, headers=headers)\n",
    "token = req.json()['access_token']"
   ]
  },
  {
   "cell_type": "markdown",
   "metadata": {},
   "source": [
    "Store the payload."
   ]
  },
  {
   "cell_type": "code",
   "execution_count": 81,
   "metadata": {},
   "outputs": [
    {
     "name": "stdout",
     "output_type": "stream",
     "text": [
      "Request OK: True\n"
     ]
    }
   ],
   "source": [
    "import requests, uuid\n",
    "\n",
    "PAYLOAD_STORING_HREF_PATTERN = '{}/v1/data_marts/{}/scoring_payloads'\n",
  "endpoint = PAYLOAD_STORING_HREF_PATTERN.format(WATSON_OS_CREDENTIALS['url'], WATSON_OS_CREDENTIALS['data_mart_id'])\n",
    "\n",
    "payload = [{\n",
    "    'binding_id': binding_uid, \n",
    "    'deployment_id': subscription.get_details()['entity']['deployments'][0]['deployment_id'], \n",
    "    'subscription_id': subscription.uid, \n",
    "    'scoring_id': str(uuid.uuid4()), \n",
    "    'response': response_data,\n",
    "    'request': request_data\n",
    "}]\n",
    "\n",
    "\n",
    "headers = {\"Authorization\": \"Bearer \" + token}\n",
    "      \n",
    "req_response = requests.post(endpoint, json=payload, headers = headers)\n",
    "\n",
    "print(\"Request OK: \" + str(req_response.ok))"
   ]
  },
  {
   "cell_type": "markdown",
   "metadata": {},
   "source": [
    "<a id=\"feedback\"></a>\n",
    "## 5. Feedback logging & quality (accuracy) monitoring"
   ]
  },
  {
   "cell_type": "markdown",
   "metadata": {},
   "source": [
    "### Enable quality monitoring"
   ]
  },
  {
   "cell_type": "markdown",
   "metadata": {},
   "source": [
    "You need to provide the monitoring `threshold` and `min_records` (minimal number of feedback records)."
   ]
  },
  {
   "cell_type": "code",
   "execution_count": 82,
   "metadata": {},
   "outputs": [],
   "source": [
    "subscription.quality_monitoring.enable(threshold=0.7, min_records=5)"
   ]
  },
  {
   "cell_type": "markdown",
   "metadata": {},
   "source": [
    "### Feedback records logging"
   ]
  },
  {
   "cell_type": "markdown",
   "metadata": {},
   "source": [
    "Feedback records are used to evaluate your model. The predicted values are compared to real values (feedback records)."
   ]
  },
  {
   "cell_type": "markdown",
   "metadata": {},
   "source": [
    "You can check the schema of the feedback table using below method."
   ]
  },
  {
   "cell_type": "code",
   "execution_count": 83,
   "metadata": {},
   "outputs": [
    {
     "data": {
      "text/html": [
       "<HTML>\n",
       "        <body>\n",
       "            <h3>Schema of Feedback_70b2a1a8cb6b8950ffd2b65afb9236de</h3>\n",
       "            <table style='border: 1px solid #dddddd; font-family: Courier'>\n",
       "                <th style='border: 1px solid #dddddd'>name</th><th style='border: 1px solid #dddddd'>type</th><th style='border: 1px solid #dddddd'>nullable</th>\n",
       "                <tr><td style='border: 1px solid #dddddd'>radius_mean</td><td style='border: 1px solid #dddddd'>double</td><td style='border: 1px solid #dddddd'>True</td></tr><tr><td style='border: 1px solid #dddddd'>texture_mean</td><td style='border: 1px solid #dddddd'>double</td><td style='border: 1px solid #dddddd'>True</td></tr><tr><td style='border: 1px solid #dddddd'>perimeter_mean</td><td style='border: 1px solid #dddddd'>double</td><td style='border: 1px solid #dddddd'>True</td></tr><tr><td style='border: 1px solid #dddddd'>area_mean</td><td style='border: 1px solid #dddddd'>double</td><td style='border: 1px solid #dddddd'>True</td></tr><tr><td style='border: 1px solid #dddddd'>smoothness_mean</td><td style='border: 1px solid #dddddd'>double</td><td style='border: 1px solid #dddddd'>True</td></tr><tr><td style='border: 1px solid #dddddd'>compactness_mean</td><td style='border: 1px solid #dddddd'>double</td><td style='border: 1px solid #dddddd'>True</td></tr><tr><td style='border: 1px solid #dddddd'>concavity_mean</td><td style='border: 1px solid #dddddd'>double</td><td style='border: 1px solid #dddddd'>True</td></tr><tr><td style='border: 1px solid #dddddd'>concave points_mean</td><td style='border: 1px solid #dddddd'>double</td><td style='border: 1px solid #dddddd'>True</td></tr><tr><td style='border: 1px solid #dddddd'>symmetry_mean</td><td style='border: 1px solid #dddddd'>double</td><td style='border: 1px solid #dddddd'>True</td></tr><tr><td style='border: 1px solid #dddddd'>fractal_dimension_mean</td><td style='border: 1px solid #dddddd'>double</td><td style='border: 1px solid #dddddd'>True</td></tr><tr><td style='border: 1px solid #dddddd'>radius_se</td><td style='border: 1px solid #dddddd'>double</td><td style='border: 1px solid #dddddd'>True</td></tr><tr><td style='border: 1px solid #dddddd'>texture_se</td><td style='border: 1px solid #dddddd'>double</td><td style='border: 1px solid #dddddd'>True</td></tr><tr><td style='border: 1px solid #dddddd'>perimeter_se</td><td style='border: 1px solid #dddddd'>double</td><td style='border: 1px solid #dddddd'>True</td></tr><tr><td style='border: 1px solid #dddddd'>area_se</td><td style='border: 1px solid #dddddd'>double</td><td style='border: 1px solid #dddddd'>True</td></tr><tr><td style='border: 1px solid #dddddd'>smoothness_se</td><td style='border: 1px solid #dddddd'>double</td><td style='border: 1px solid #dddddd'>True</td></tr><tr><td style='border: 1px solid #dddddd'>compactness_se</td><td style='border: 1px solid #dddddd'>double</td><td style='border: 1px solid #dddddd'>True</td></tr><tr><td style='border: 1px solid #dddddd'>concavity_se</td><td style='border: 1px solid #dddddd'>double</td><td style='border: 1px solid #dddddd'>True</td></tr><tr><td style='border: 1px solid #dddddd'>concave points_se</td><td style='border: 1px solid #dddddd'>double</td><td style='border: 1px solid #dddddd'>True</td></tr><tr><td style='border: 1px solid #dddddd'>symmetry_se</td><td style='border: 1px solid #dddddd'>double</td><td style='border: 1px solid #dddddd'>True</td></tr><tr><td style='border: 1px solid #dddddd'>fractal_dimension_se</td><td style='border: 1px solid #dddddd'>double</td><td style='border: 1px solid #dddddd'>True</td></tr><tr><td style='border: 1px solid #dddddd'>radius_worst</td><td style='border: 1px solid #dddddd'>double</td><td style='border: 1px solid #dddddd'>True</td></tr><tr><td style='border: 1px solid #dddddd'>texture_worst</td><td style='border: 1px solid #dddddd'>double</td><td style='border: 1px solid #dddddd'>True</td></tr><tr><td style='border: 1px solid #dddddd'>perimeter_worst</td><td style='border: 1px solid #dddddd'>double</td><td style='border: 1px solid #dddddd'>True</td></tr><tr><td style='border: 1px solid #dddddd'>area_worst</td><td style='border: 1px solid #dddddd'>double</td><td style='border: 1px solid #dddddd'>True</td></tr><tr><td style='border: 1px solid #dddddd'>smoothness_worst</td><td style='border: 1px solid #dddddd'>double</td><td style='border: 1px solid #dddddd'>True</td></tr><tr><td style='border: 1px solid #dddddd'>compactness_worst</td><td style='border: 1px solid #dddddd'>double</td><td style='border: 1px solid #dddddd'>True</td></tr><tr><td style='border: 1px solid #dddddd'>concavity_worst</td><td style='border: 1px solid #dddddd'>double</td><td style='border: 1px solid #dddddd'>True</td></tr><tr><td style='border: 1px solid #dddddd'>concave points_worst</td><td style='border: 1px solid #dddddd'>double</td><td style='border: 1px solid #dddddd'>True</td></tr><tr><td style='border: 1px solid #dddddd'>symmetry_worst</td><td style='border: 1px solid #dddddd'>double</td><td style='border: 1px solid #dddddd'>True</td></tr><tr><td style='border: 1px solid #dddddd'>fractal_dimension_worst</td><td style='border: 1px solid #dddddd'>double</td><td style='border: 1px solid #dddddd'>True</td></tr><tr><td style='border: 1px solid #dddddd'>diagnosis</td><td style='border: 1px solid #dddddd'>double</td><td style='border: 1px solid #dddddd'>True</td></tr><tr><td style='border: 1px solid #dddddd'>_training</td><td style='border: 1px solid #dddddd'>timestamp</td><td style='border: 1px solid #dddddd'>False</td></tr>\n",
       "            </table>\n",
       "        </body>\n",
       "        </HTML>"
      ],
      "text/plain": [
       "<IPython.core.display.HTML object>"
      ]
     },
     "metadata": {},
     "output_type": "display_data"
    }
   ],
   "source": [
    "subscription.feedback_logging.print_table_schema()"
   ]
  },
  {
   "cell_type": "markdown",
   "metadata": {},
   "source": [
    "The feedback records can be send to feedback table using the code below."
   ]
  },
  {
   "cell_type": "code",
   "execution_count": 84,
   "metadata": {},
   "outputs": [],
   "source": [
    "feedback_records = []\n",
    "\n",
    "fields = ['radius_mean', 'texture_mean', 'perimeter_mean', 'area_mean', 'smoothness_mean', 'compactness_mean',\n",
    "          'concavity_mean', 'concave points_mean', 'symmetry_mean', 'fractal_dimension_mean', 'radius_se',\n",
    "          'texture_se', 'perimeter_se', 'area_se', 'smoothness_se', 'compactness_se', 'concavity_se',\n",
    "          'concave points_se', 'symmetry_se', 'fractal_dimension_se', 'radius_worst', 'texture_worst',\n",
    "          'perimeter_worst', 'area_worst', 'smoothness_worst', 'compactness_worst', 'concavity_worst',\n",
    "          'concave points_worst', 'symmetry_worst', 'fractal_dimension_worst', 'diagnosis']\n",
    "\n",
    "for i in range(1, 10):\n",
    "    feedback_records.append([17.02,23.98,112.8,899.3,0.1197,0.1496,0.2417,0.1203,0.2248,0.06382,0.6009,1.398,3.999,67.78,0.008268,0.03082,0.05042,0.01112,0.02102,0.003854,20.88,32.09,136.1,1344,0.1634,0.3559,0.5588,0.1847,0.353,0.08482, 1])\n",
    "\n",
    "subscription.feedback_logging.store(feedback_data=feedback_records, fields=fields)"
   ]
  },
  {
   "cell_type": "markdown",
   "metadata": {},
   "source": [
    "### Run quality monitoring on demand"
   ]
  },
  {
   "cell_type": "markdown",
   "metadata": {},
   "source": [
    "By default, quality monitoring is run on an hourly schedule. You can also trigger it on demand using the code below."
   ]
  },
  {
   "cell_type": "code",
   "execution_count": 85,
   "metadata": {},
   "outputs": [],
   "source": [
    "run_details = subscription.quality_monitoring.run()"
   ]
  },
  {
   "cell_type": "markdown",
   "metadata": {},
   "source": [
    "Since the monitoring runs in the background you can use the method below to check the status of the job."
   ]
  },
  {
   "cell_type": "code",
   "execution_count": 86,
   "metadata": {},
   "outputs": [
    {
     "name": "stdout",
     "output_type": "stream",
     "text": [
      "Run status: initializing\n",
      "Run status: completed\n"
     ]
    }
   ],
   "source": [
    "status = run_details['status']\n",
    "id = run_details['id']\n",
    "\n",
    "print(\"Run status: {}\".format(status))\n",
    "\n",
    "start_time = time.time()\n",
    "elapsed_time = 0\n",
    "\n",
    "while status != 'completed' and elapsed_time < 60:\n",
    "    time.sleep(10)\n",
    "    run_details = subscription.quality_monitoring.get_run_details(run_uid=id)\n",
    "    status = run_details['status']\n",
    "    elapsed_time = time.time() - start_time\n",
    "    print(\"Run status: {}\".format(status))"
   ]
  },
  {
   "cell_type": "markdown",
   "metadata": {},
   "source": [
    "### Show the quality metrics"
   ]
  },
  {
   "cell_type": "code",
   "execution_count": 87,
   "metadata": {},
   "outputs": [
    {
     "data": {
      "text/html": [
       "<HTML>\n",
       "        <body>\n",
       "            <h3>QualityMetrics (binding_id=152fdb6f-4c8c-43cc-b2e4-73cf388844ef, subscription_id=70b2a1a8cb6b8950ffd2b65afb9236de)</h3>\n",
       "            <table style='border: 1px solid #dddddd; font-family: Courier'>\n",
       "                <th style='border: 1px solid #dddddd'>ts</th><th style='border: 1px solid #dddddd'>quality</th><th style='border: 1px solid #dddddd'>quality_threshold</th><th style='border: 1px solid #dddddd'>binding_id</th><th style='border: 1px solid #dddddd'>subscription_id</th><th style='border: 1px solid #dddddd'>deployment_id</th><th style='border: 1px solid #dddddd'>process</th><th style='border: 1px solid #dddddd'>asset_revision</th>\n",
       "                <tr><td style='border: 1px solid #dddddd'>2019-01-28 16:47:38.105000+00:00</td><td style='border: 1px solid #dddddd'>1.0</td><td style='border: 1px solid #dddddd'>0.7</td><td style='border: 1px solid #dddddd'>152fdb6f-4c8c-43cc-b2e4-73cf388844ef</td><td style='border: 1px solid #dddddd'>70b2a1a8cb6b8950ffd2b65afb9236de</td><td style='border: 1px solid #dddddd'>865ac8c78c11d062c76138af425834ca</td><td style='border: 1px solid #dddddd'>Accuracy_evaluation_01d14a4d-4dd1-46d5-9906-8a112f01bdc4</td><td style='border: 1px solid #dddddd'></td></tr>\n",
       "            </table>\n",
       "        </body>\n",
       "        </HTML>"
      ],
      "text/plain": [
       "<IPython.core.display.HTML object>"
      ]
     },
     "metadata": {},
     "output_type": "display_data"
    }
   ],
   "source": [
    "subscription.quality_monitoring.show_table()"
   ]
  },
  {
   "cell_type": "markdown",
   "metadata": {},
   "source": [
    "Get all calculated metrics."
   ]
  },
  {
   "cell_type": "code",
   "execution_count": 88,
   "metadata": {},
   "outputs": [],
   "source": [
    "deployment_uids = subscription.get_deployment_uids()"
   ]
  },
  {
   "cell_type": "code",
   "execution_count": 89,
   "metadata": {},
   "outputs": [
    {
     "data": {
      "text/plain": [
       "{'start': '2019-01-28T15:46:46.542Z',\n",
       " 'end': '2019-01-28T16:51:54.775258Z',\n",
       " 'metrics': [{'timestamp': '2019-01-28T16:47:38.105Z',\n",
       "   'value': {'metrics': [{'name': 'weightedTruePositiveRate', 'value': 1.0},\n",
       "     {'name': 'accuracy', 'value': 1.0},\n",
       "     {'name': 'weightedFMeasure', 'value': 1.0},\n",
       "     {'name': 'weightedRecall', 'value': 1.0},\n",
       "     {'name': 'weightedFalsePositiveRate', 'value': None},\n",
       "     {'name': 'weightedPrecision', 'value': 1.0}],\n",
       "    'quality': 1.0,\n",
       "    'threshold': 0.7},\n",
       "   'process': 'Accuracy_evaluation_01d14a4d-4dd1-46d5-9906-8a112f01bdc4'}]}"
      ]
     },
     "execution_count": 89,
     "metadata": {},
     "output_type": "execute_result"
    }
   ],
   "source": [
    "subscription.quality_monitoring.get_metrics(deployment_uid=deployment_uids[0])"
   ]
  },
  {
   "cell_type": "markdown",
   "metadata": {},
   "source": [
    "<a id=\"datamart\"></a>\n",
    "## 6. Get the logged data"
   ]
  },
  {
   "cell_type": "markdown",
   "metadata": {},
   "source": [
    "### 6.1 Payload logging"
   ]
  },
  {
   "cell_type": "markdown",
   "metadata": {},
   "source": [
    "#### Print schema of payload_logging table"
   ]
  },
  {
   "cell_type": "code",
   "execution_count": 90,
   "metadata": {},
   "outputs": [
    {
     "data": {
      "text/html": [
       "<HTML>\n",
       "        <body>\n",
       "            <h3>Schema of Payload_70b2a1a8cb6b8950ffd2b65afb9236de</h3>\n",
       "            <table style='border: 1px solid #dddddd; font-family: Courier'>\n",
       "                <th style='border: 1px solid #dddddd'>name</th><th style='border: 1px solid #dddddd'>type</th><th style='border: 1px solid #dddddd'>nullable</th>\n",
       "                <tr><td style='border: 1px solid #dddddd'>scoring_id</td><td style='border: 1px solid #dddddd'>string</td><td style='border: 1px solid #dddddd'>False</td></tr><tr><td style='border: 1px solid #dddddd'>scoring_timestamp</td><td style='border: 1px solid #dddddd'>timestamp</td><td style='border: 1px solid #dddddd'>False</td></tr><tr><td style='border: 1px solid #dddddd'>deployment_id</td><td style='border: 1px solid #dddddd'>string</td><td style='border: 1px solid #dddddd'>False</td></tr><tr><td style='border: 1px solid #dddddd'>asset_revision</td><td style='border: 1px solid #dddddd'>string</td><td style='border: 1px solid #dddddd'>True</td></tr><tr><td style='border: 1px solid #dddddd'>radius_mean</td><td style='border: 1px solid #dddddd'>double</td><td style='border: 1px solid #dddddd'>True</td></tr><tr><td style='border: 1px solid #dddddd'>texture_mean</td><td style='border: 1px solid #dddddd'>double</td><td style='border: 1px solid #dddddd'>True</td></tr><tr><td style='border: 1px solid #dddddd'>perimeter_mean</td><td style='border: 1px solid #dddddd'>double</td><td style='border: 1px solid #dddddd'>True</td></tr><tr><td style='border: 1px solid #dddddd'>area_mean</td><td style='border: 1px solid #dddddd'>double</td><td style='border: 1px solid #dddddd'>True</td></tr><tr><td style='border: 1px solid #dddddd'>smoothness_mean</td><td style='border: 1px solid #dddddd'>double</td><td style='border: 1px solid #dddddd'>True</td></tr><tr><td style='border: 1px solid #dddddd'>compactness_mean</td><td style='border: 1px solid #dddddd'>double</td><td style='border: 1px solid #dddddd'>True</td></tr><tr><td style='border: 1px solid #dddddd'>concavity_mean</td><td style='border: 1px solid #dddddd'>double</td><td style='border: 1px solid #dddddd'>True</td></tr><tr><td style='border: 1px solid #dddddd'>concave points_mean</td><td style='border: 1px solid #dddddd'>double</td><td style='border: 1px solid #dddddd'>True</td></tr><tr><td style='border: 1px solid #dddddd'>symmetry_mean</td><td style='border: 1px solid #dddddd'>double</td><td style='border: 1px solid #dddddd'>True</td></tr><tr><td style='border: 1px solid #dddddd'>fractal_dimension_mean</td><td style='border: 1px solid #dddddd'>double</td><td style='border: 1px solid #dddddd'>True</td></tr><tr><td style='border: 1px solid #dddddd'>radius_se</td><td style='border: 1px solid #dddddd'>double</td><td style='border: 1px solid #dddddd'>True</td></tr><tr><td style='border: 1px solid #dddddd'>texture_se</td><td style='border: 1px solid #dddddd'>double</td><td style='border: 1px solid #dddddd'>True</td></tr><tr><td style='border: 1px solid #dddddd'>perimeter_se</td><td style='border: 1px solid #dddddd'>double</td><td style='border: 1px solid #dddddd'>True</td></tr><tr><td style='border: 1px solid #dddddd'>area_se</td><td style='border: 1px solid #dddddd'>double</td><td style='border: 1px solid #dddddd'>True</td></tr><tr><td style='border: 1px solid #dddddd'>smoothness_se</td><td style='border: 1px solid #dddddd'>double</td><td style='border: 1px solid #dddddd'>True</td></tr><tr><td style='border: 1px solid #dddddd'>compactness_se</td><td style='border: 1px solid #dddddd'>double</td><td style='border: 1px solid #dddddd'>True</td></tr><tr><td style='border: 1px solid #dddddd'>concavity_se</td><td style='border: 1px solid #dddddd'>double</td><td style='border: 1px solid #dddddd'>True</td></tr><tr><td style='border: 1px solid #dddddd'>concave points_se</td><td style='border: 1px solid #dddddd'>double</td><td style='border: 1px solid #dddddd'>True</td></tr><tr><td style='border: 1px solid #dddddd'>symmetry_se</td><td style='border: 1px solid #dddddd'>double</td><td style='border: 1px solid #dddddd'>True</td></tr><tr><td style='border: 1px solid #dddddd'>fractal_dimension_se</td><td style='border: 1px solid #dddddd'>double</td><td style='border: 1px solid #dddddd'>True</td></tr><tr><td style='border: 1px solid #dddddd'>radius_worst</td><td style='border: 1px solid #dddddd'>double</td><td style='border: 1px solid #dddddd'>True</td></tr><tr><td style='border: 1px solid #dddddd'>texture_worst</td><td style='border: 1px solid #dddddd'>double</td><td style='border: 1px solid #dddddd'>True</td></tr><tr><td style='border: 1px solid #dddddd'>perimeter_worst</td><td style='border: 1px solid #dddddd'>double</td><td style='border: 1px solid #dddddd'>True</td></tr><tr><td style='border: 1px solid #dddddd'>area_worst</td><td style='border: 1px solid #dddddd'>double</td><td style='border: 1px solid #dddddd'>True</td></tr><tr><td style='border: 1px solid #dddddd'>smoothness_worst</td><td style='border: 1px solid #dddddd'>double</td><td style='border: 1px solid #dddddd'>True</td></tr><tr><td style='border: 1px solid #dddddd'>compactness_worst</td><td style='border: 1px solid #dddddd'>double</td><td style='border: 1px solid #dddddd'>True</td></tr><tr><td style='border: 1px solid #dddddd'>concavity_worst</td><td style='border: 1px solid #dddddd'>double</td><td style='border: 1px solid #dddddd'>True</td></tr><tr><td style='border: 1px solid #dddddd'>concave points_worst</td><td style='border: 1px solid #dddddd'>double</td><td style='border: 1px solid #dddddd'>True</td></tr><tr><td style='border: 1px solid #dddddd'>symmetry_worst</td><td style='border: 1px solid #dddddd'>double</td><td style='border: 1px solid #dddddd'>True</td></tr><tr><td style='border: 1px solid #dddddd'>fractal_dimension_worst</td><td style='border: 1px solid #dddddd'>double</td><td style='border: 1px solid #dddddd'>True</td></tr><tr><td style='border: 1px solid #dddddd'>score</td><td style='border: 1px solid #dddddd'>double</td><td style='border: 1px solid #dddddd'>True</td></tr><tr><td style='border: 1px solid #dddddd'>predicted_label</td><td style='border: 1px solid #dddddd'>double</td><td style='border: 1px solid #dddddd'>True</td></tr>\n",
       "            </table>\n",
       "        </body>\n",
       "        </HTML>"
      ],
      "text/plain": [
       "<IPython.core.display.HTML object>"
      ]
     },
     "metadata": {},
     "output_type": "display_data"
    }
   ],
   "source": [
    "subscription.payload_logging.print_table_schema()"
   ]
  },
  {
   "cell_type": "markdown",
   "metadata": {},
   "source": [
    "#### Show (preview) the table"
   ]
  },
  {
   "cell_type": "code",
   "execution_count": 91,
   "metadata": {},
   "outputs": [
    {
     "name": "stdout",
     "output_type": "stream",
     "text": [
      "       radius_mean  texture_mean  perimeter_mean     area_mean  \\\n",
      "count        24.00         24.00            24.0  2.400000e+01   \n",
      "mean         17.02         23.98           112.8  8.993000e+02   \n",
      "std           0.00          0.00             0.0  1.161320e-13   \n",
      "min          17.02         23.98           112.8  8.993000e+02   \n",
      "25%          17.02         23.98           112.8  8.993000e+02   \n",
      "50%          17.02         23.98           112.8  8.993000e+02   \n",
      "75%          17.02         23.98           112.8  8.993000e+02   \n",
      "max          17.02         23.98           112.8  8.993000e+02   \n",
      "\n",
      "       smoothness_mean  compactness_mean  concavity_mean  concave points_mean  \\\n",
      "count     2.400000e+01           24.0000         24.0000              24.0000   \n",
      "mean      1.197000e-01            0.1496          0.2417               0.1203   \n",
      "std       1.417627e-17            0.0000          0.0000               0.0000   \n",
      "min       1.197000e-01            0.1496          0.2417               0.1203   \n",
      "25%       1.197000e-01            0.1496          0.2417               0.1203   \n",
      "50%       1.197000e-01            0.1496          0.2417               0.1203   \n",
      "75%       1.197000e-01            0.1496          0.2417               0.1203   \n",
      "max       1.197000e-01            0.1496          0.2417               0.1203   \n",
      "\n",
      "       symmetry_mean  fractal_dimension_mean       ...         \\\n",
      "count        24.0000                24.00000       ...          \n",
      "mean          0.2248                 0.06382       ...          \n",
      "std           0.0000                 0.00000       ...          \n",
      "min           0.2248                 0.06382       ...          \n",
      "25%           0.2248                 0.06382       ...          \n",
      "50%           0.2248                 0.06382       ...          \n",
      "75%           0.2248                 0.06382       ...          \n",
      "max           0.2248                 0.06382       ...          \n",
      "\n",
      "       perimeter_worst  area_worst  smoothness_worst  compactness_worst  \\\n",
      "count             24.0        24.0           24.0000       2.400000e+01   \n",
      "mean             136.1      1344.0            0.1634       3.559000e-01   \n",
      "std                0.0         0.0            0.0000       5.670508e-17   \n",
      "min              136.1      1344.0            0.1634       3.559000e-01   \n",
      "25%              136.1      1344.0            0.1634       3.559000e-01   \n",
      "50%              136.1      1344.0            0.1634       3.559000e-01   \n",
      "75%              136.1      1344.0            0.1634       3.559000e-01   \n",
      "max              136.1      1344.0            0.1634       3.559000e-01   \n",
      "\n",
      "       concavity_worst  concave points_worst  symmetry_worst  \\\n",
      "count          24.0000               24.0000          24.000   \n",
      "mean            0.5588                0.1847           0.353   \n",
      "std             0.0000                0.0000           0.000   \n",
      "min             0.5588                0.1847           0.353   \n",
      "25%             0.5588                0.1847           0.353   \n",
      "50%             0.5588                0.1847           0.353   \n",
      "75%             0.5588                0.1847           0.353   \n",
      "max             0.5588                0.1847           0.353   \n",
      "\n",
      "       fractal_dimension_worst  score  predicted_label  \n",
      "count                 24.00000   24.0             24.0  \n",
      "mean                   0.08482    1.0              1.0  \n",
      "std                    0.00000    0.0              0.0  \n",
      "min                    0.08482    1.0              1.0  \n",
      "25%                    0.08482    1.0              1.0  \n",
      "50%                    0.08482    1.0              1.0  \n",
      "75%                    0.08482    1.0              1.0  \n",
      "max                    0.08482    1.0              1.0  \n",
      "\n",
      "[8 rows x 32 columns]\n"
     ]
    }
   ],
   "source": [
    "subscription.payload_logging.describe_table()"
   ]
  },
  {
   "cell_type": "markdown",
   "metadata": {},
   "source": [
    "#### Return the table content as pandas dataframe"
   ]
  },
  {
   "cell_type": "code",
   "execution_count": 92,
   "metadata": {},
   "outputs": [],
   "source": [
    "pandas_df = subscription.payload_logging.get_table_content(format='pandas')"
   ]
  },
  {
   "cell_type": "markdown",
   "metadata": {},
   "source": [
    "### 6.2 Feddback logging"
   ]
  },
  {
   "cell_type": "markdown",
   "metadata": {},
   "source": [
    "Check the schema of the table."
   ]
  },
  {
   "cell_type": "code",
   "execution_count": 93,
   "metadata": {},
   "outputs": [
    {
     "data": {
      "text/html": [
       "<HTML>\n",
       "        <body>\n",
       "            <h3>Schema of Feedback_70b2a1a8cb6b8950ffd2b65afb9236de</h3>\n",
       "            <table style='border: 1px solid #dddddd; font-family: Courier'>\n",
       "                <th style='border: 1px solid #dddddd'>name</th><th style='border: 1px solid #dddddd'>type</th><th style='border: 1px solid #dddddd'>nullable</th>\n",
       "                <tr><td style='border: 1px solid #dddddd'>radius_mean</td><td style='border: 1px solid #dddddd'>double</td><td style='border: 1px solid #dddddd'>True</td></tr><tr><td style='border: 1px solid #dddddd'>texture_mean</td><td style='border: 1px solid #dddddd'>double</td><td style='border: 1px solid #dddddd'>True</td></tr><tr><td style='border: 1px solid #dddddd'>perimeter_mean</td><td style='border: 1px solid #dddddd'>double</td><td style='border: 1px solid #dddddd'>True</td></tr><tr><td style='border: 1px solid #dddddd'>area_mean</td><td style='border: 1px solid #dddddd'>double</td><td style='border: 1px solid #dddddd'>True</td></tr><tr><td style='border: 1px solid #dddddd'>smoothness_mean</td><td style='border: 1px solid #dddddd'>double</td><td style='border: 1px solid #dddddd'>True</td></tr><tr><td style='border: 1px solid #dddddd'>compactness_mean</td><td style='border: 1px solid #dddddd'>double</td><td style='border: 1px solid #dddddd'>True</td></tr><tr><td style='border: 1px solid #dddddd'>concavity_mean</td><td style='border: 1px solid #dddddd'>double</td><td style='border: 1px solid #dddddd'>True</td></tr><tr><td style='border: 1px solid #dddddd'>concave points_mean</td><td style='border: 1px solid #dddddd'>double</td><td style='border: 1px solid #dddddd'>True</td></tr><tr><td style='border: 1px solid #dddddd'>symmetry_mean</td><td style='border: 1px solid #dddddd'>double</td><td style='border: 1px solid #dddddd'>True</td></tr><tr><td style='border: 1px solid #dddddd'>fractal_dimension_mean</td><td style='border: 1px solid #dddddd'>double</td><td style='border: 1px solid #dddddd'>True</td></tr><tr><td style='border: 1px solid #dddddd'>radius_se</td><td style='border: 1px solid #dddddd'>double</td><td style='border: 1px solid #dddddd'>True</td></tr><tr><td style='border: 1px solid #dddddd'>texture_se</td><td style='border: 1px solid #dddddd'>double</td><td style='border: 1px solid #dddddd'>True</td></tr><tr><td style='border: 1px solid #dddddd'>perimeter_se</td><td style='border: 1px solid #dddddd'>double</td><td style='border: 1px solid #dddddd'>True</td></tr><tr><td style='border: 1px solid #dddddd'>area_se</td><td style='border: 1px solid #dddddd'>double</td><td style='border: 1px solid #dddddd'>True</td></tr><tr><td style='border: 1px solid #dddddd'>smoothness_se</td><td style='border: 1px solid #dddddd'>double</td><td style='border: 1px solid #dddddd'>True</td></tr><tr><td style='border: 1px solid #dddddd'>compactness_se</td><td style='border: 1px solid #dddddd'>double</td><td style='border: 1px solid #dddddd'>True</td></tr><tr><td style='border: 1px solid #dddddd'>concavity_se</td><td style='border: 1px solid #dddddd'>double</td><td style='border: 1px solid #dddddd'>True</td></tr><tr><td style='border: 1px solid #dddddd'>concave points_se</td><td style='border: 1px solid #dddddd'>double</td><td style='border: 1px solid #dddddd'>True</td></tr><tr><td style='border: 1px solid #dddddd'>symmetry_se</td><td style='border: 1px solid #dddddd'>double</td><td style='border: 1px solid #dddddd'>True</td></tr><tr><td style='border: 1px solid #dddddd'>fractal_dimension_se</td><td style='border: 1px solid #dddddd'>double</td><td style='border: 1px solid #dddddd'>True</td></tr><tr><td style='border: 1px solid #dddddd'>radius_worst</td><td style='border: 1px solid #dddddd'>double</td><td style='border: 1px solid #dddddd'>True</td></tr><tr><td style='border: 1px solid #dddddd'>texture_worst</td><td style='border: 1px solid #dddddd'>double</td><td style='border: 1px solid #dddddd'>True</td></tr><tr><td style='border: 1px solid #dddddd'>perimeter_worst</td><td style='border: 1px solid #dddddd'>double</td><td style='border: 1px solid #dddddd'>True</td></tr><tr><td style='border: 1px solid #dddddd'>area_worst</td><td style='border: 1px solid #dddddd'>double</td><td style='border: 1px solid #dddddd'>True</td></tr><tr><td style='border: 1px solid #dddddd'>smoothness_worst</td><td style='border: 1px solid #dddddd'>double</td><td style='border: 1px solid #dddddd'>True</td></tr><tr><td style='border: 1px solid #dddddd'>compactness_worst</td><td style='border: 1px solid #dddddd'>double</td><td style='border: 1px solid #dddddd'>True</td></tr><tr><td style='border: 1px solid #dddddd'>concavity_worst</td><td style='border: 1px solid #dddddd'>double</td><td style='border: 1px solid #dddddd'>True</td></tr><tr><td style='border: 1px solid #dddddd'>concave points_worst</td><td style='border: 1px solid #dddddd'>double</td><td style='border: 1px solid #dddddd'>True</td></tr><tr><td style='border: 1px solid #dddddd'>symmetry_worst</td><td style='border: 1px solid #dddddd'>double</td><td style='border: 1px solid #dddddd'>True</td></tr><tr><td style='border: 1px solid #dddddd'>fractal_dimension_worst</td><td style='border: 1px solid #dddddd'>double</td><td style='border: 1px solid #dddddd'>True</td></tr><tr><td style='border: 1px solid #dddddd'>diagnosis</td><td style='border: 1px solid #dddddd'>double</td><td style='border: 1px solid #dddddd'>True</td></tr><tr><td style='border: 1px solid #dddddd'>_training</td><td style='border: 1px solid #dddddd'>timestamp</td><td style='border: 1px solid #dddddd'>False</td></tr>\n",
       "            </table>\n",
       "        </body>\n",
       "        </HTML>"
      ],
      "text/plain": [
       "<IPython.core.display.HTML object>"
      ]
     },
     "metadata": {},
     "output_type": "display_data"
    }
   ],
   "source": [
    "subscription.feedback_logging.print_table_schema()"
   ]
  },
  {
   "cell_type": "markdown",
   "metadata": {},
   "source": [
    "Preview the table content."
   ]
  },
  {
   "cell_type": "code",
   "execution_count": 94,
   "metadata": {},
   "outputs": [
    {
     "data": {
      "text/html": [
       "<HTML>\n",
       "        <body>\n",
       "            <h3>Feedback_70b2a1a8cb6b8950ffd2b65afb9236de (binding_id=152fdb6f-4c8c-43cc-b2e4-73cf388844ef, subscription_id=70b2a1a8cb6b8950ffd2b65afb9236de)</h3>\n",
       "            <table style='border: 1px solid #dddddd; font-family: Courier'>\n",
       "                <th style='border: 1px solid #dddddd'>radius_mean</th><th style='border: 1px solid #dddddd'>texture_mean</th><th style='border: 1px solid #dddddd'>perimeter_mean</th><th style='border: 1px solid #dddddd'>area_mean</th><th style='border: 1px solid #dddddd'>smoothness_mean</th><th style='border: 1px solid #dddddd'>compactness_mean</th><th style='border: 1px solid #dddddd'>concavity_mean</th><th style='border: 1px solid #dddddd'>concave points_mean</th><th style='border: 1px solid #dddddd'>symmetry_mean</th><th style='border: 1px solid #dddddd'>fractal_dimension_mean</th><th style='border: 1px solid #dddddd'>radius_se</th><th style='border: 1px solid #dddddd'>texture_se</th><th style='border: 1px solid #dddddd'>perimeter_se</th><th style='border: 1px solid #dddddd'>area_se</th><th style='border: 1px solid #dddddd'>smoothness_se</th><th style='border: 1px solid #dddddd'>compactness_se</th><th style='border: 1px solid #dddddd'>concavity_se</th><th style='border: 1px solid #dddddd'>concave points_se</th><th style='border: 1px solid #dddddd'>symmetry_se</th><th style='border: 1px solid #dddddd'>fractal_dimension_se</th><th style='border: 1px solid #dddddd'>radius_worst</th><th style='border: 1px solid #dddddd'>texture_worst</th><th style='border: 1px solid #dddddd'>perimeter_worst</th><th style='border: 1px solid #dddddd'>area_worst</th><th style='border: 1px solid #dddddd'>smoothness_worst</th><th style='border: 1px solid #dddddd'>compactness_worst</th><th style='border: 1px solid #dddddd'>concavity_worst</th><th style='border: 1px solid #dddddd'>concave points_worst</th><th style='border: 1px solid #dddddd'>symmetry_worst</th><th style='border: 1px solid #dddddd'>fractal_dimension_worst</th><th style='border: 1px solid #dddddd'>diagnosis</th><th style='border: 1px solid #dddddd'>_training</th>\n",
       "                <tr><td style='border: 1px solid #dddddd'>17.02</td><td style='border: 1px solid #dddddd'>23.98</td><td style='border: 1px solid #dddddd'>112.8</td><td style='border: 1px solid #dddddd'>899.3</td><td style='border: 1px solid #dddddd'>0.1197</td><td style='border: 1px solid #dddddd'>0.1496</td><td style='border: 1px solid #dddddd'>0.2417</td><td style='border: 1px solid #dddddd'>0.1203</td><td style='border: 1px solid #dddddd'>0.2248</td><td style='border: 1px solid #dddddd'>0.06382</td><td style='border: 1px solid #dddddd'>0.6009</td><td style='border: 1px solid #dddddd'>1.398</td><td style='border: 1px solid #dddddd'>3.999</td><td style='border: 1px solid #dddddd'>67.78</td><td style='border: 1px solid #dddddd'>0.008268</td><td style='border: 1px solid #dddddd'>0.03082</td><td style='border: 1px solid #dddddd'>0.05042</td><td style='border: 1px solid #dddddd'>0.01112</td><td style='border: 1px solid #dddddd'>0.02102</td><td style='border: 1px solid #dddddd'>0.003854</td><td style='border: 1px solid #dddddd'>20.88</td><td style='border: 1px solid #dddddd'>32.09</td><td style='border: 1px solid #dddddd'>136.1</td><td style='border: 1px solid #dddddd'>1344.0</td><td style='border: 1px solid #dddddd'>0.1634</td><td style='border: 1px solid #dddddd'>0.3559</td><td style='border: 1px solid #dddddd'>0.5588</td><td style='border: 1px solid #dddddd'>0.1847</td><td style='border: 1px solid #dddddd'>0.353</td><td style='border: 1px solid #dddddd'>0.08482</td><td style='border: 1px solid #dddddd'>1.0</td><td style='border: 1px solid #dddddd'>2019-01-28 16:47:33.973000+00:00</td></tr><tr><td style='border: 1px solid #dddddd'>17.02</td><td style='border: 1px solid #dddddd'>23.98</td><td style='border: 1px solid #dddddd'>112.8</td><td style='border: 1px solid #dddddd'>899.3</td><td style='border: 1px solid #dddddd'>0.1197</td><td style='border: 1px solid #dddddd'>0.1496</td><td style='border: 1px solid #dddddd'>0.2417</td><td style='border: 1px solid #dddddd'>0.1203</td><td style='border: 1px solid #dddddd'>0.2248</td><td style='border: 1px solid #dddddd'>0.06382</td><td style='border: 1px solid #dddddd'>0.6009</td><td style='border: 1px solid #dddddd'>1.398</td><td style='border: 1px solid #dddddd'>3.999</td><td style='border: 1px solid #dddddd'>67.78</td><td style='border: 1px solid #dddddd'>0.008268</td><td style='border: 1px solid #dddddd'>0.03082</td><td style='border: 1px solid #dddddd'>0.05042</td><td style='border: 1px solid #dddddd'>0.01112</td><td style='border: 1px solid #dddddd'>0.02102</td><td style='border: 1px solid #dddddd'>0.003854</td><td style='border: 1px solid #dddddd'>20.88</td><td style='border: 1px solid #dddddd'>32.09</td><td style='border: 1px solid #dddddd'>136.1</td><td style='border: 1px solid #dddddd'>1344.0</td><td style='border: 1px solid #dddddd'>0.1634</td><td style='border: 1px solid #dddddd'>0.3559</td><td style='border: 1px solid #dddddd'>0.5588</td><td style='border: 1px solid #dddddd'>0.1847</td><td style='border: 1px solid #dddddd'>0.353</td><td style='border: 1px solid #dddddd'>0.08482</td><td style='border: 1px solid #dddddd'>1.0</td><td style='border: 1px solid #dddddd'>2019-01-28 16:47:33.973000+00:00</td></tr><tr><td style='border: 1px solid #dddddd'>17.02</td><td style='border: 1px solid #dddddd'>23.98</td><td style='border: 1px solid #dddddd'>112.8</td><td style='border: 1px solid #dddddd'>899.3</td><td style='border: 1px solid #dddddd'>0.1197</td><td style='border: 1px solid #dddddd'>0.1496</td><td style='border: 1px solid #dddddd'>0.2417</td><td style='border: 1px solid #dddddd'>0.1203</td><td style='border: 1px solid #dddddd'>0.2248</td><td style='border: 1px solid #dddddd'>0.06382</td><td style='border: 1px solid #dddddd'>0.6009</td><td style='border: 1px solid #dddddd'>1.398</td><td style='border: 1px solid #dddddd'>3.999</td><td style='border: 1px solid #dddddd'>67.78</td><td style='border: 1px solid #dddddd'>0.008268</td><td style='border: 1px solid #dddddd'>0.03082</td><td style='border: 1px solid #dddddd'>0.05042</td><td style='border: 1px solid #dddddd'>0.01112</td><td style='border: 1px solid #dddddd'>0.02102</td><td style='border: 1px solid #dddddd'>0.003854</td><td style='border: 1px solid #dddddd'>20.88</td><td style='border: 1px solid #dddddd'>32.09</td><td style='border: 1px solid #dddddd'>136.1</td><td style='border: 1px solid #dddddd'>1344.0</td><td style='border: 1px solid #dddddd'>0.1634</td><td style='border: 1px solid #dddddd'>0.3559</td><td style='border: 1px solid #dddddd'>0.5588</td><td style='border: 1px solid #dddddd'>0.1847</td><td style='border: 1px solid #dddddd'>0.353</td><td style='border: 1px solid #dddddd'>0.08482</td><td style='border: 1px solid #dddddd'>1.0</td><td style='border: 1px solid #dddddd'>2019-01-28 16:47:33.973000+00:00</td></tr><tr><td style='border: 1px solid #dddddd'>17.02</td><td style='border: 1px solid #dddddd'>23.98</td><td style='border: 1px solid #dddddd'>112.8</td><td style='border: 1px solid #dddddd'>899.3</td><td style='border: 1px solid #dddddd'>0.1197</td><td style='border: 1px solid #dddddd'>0.1496</td><td style='border: 1px solid #dddddd'>0.2417</td><td style='border: 1px solid #dddddd'>0.1203</td><td style='border: 1px solid #dddddd'>0.2248</td><td style='border: 1px solid #dddddd'>0.06382</td><td style='border: 1px solid #dddddd'>0.6009</td><td style='border: 1px solid #dddddd'>1.398</td><td style='border: 1px solid #dddddd'>3.999</td><td style='border: 1px solid #dddddd'>67.78</td><td style='border: 1px solid #dddddd'>0.008268</td><td style='border: 1px solid #dddddd'>0.03082</td><td style='border: 1px solid #dddddd'>0.05042</td><td style='border: 1px solid #dddddd'>0.01112</td><td style='border: 1px solid #dddddd'>0.02102</td><td style='border: 1px solid #dddddd'>0.003854</td><td style='border: 1px solid #dddddd'>20.88</td><td style='border: 1px solid #dddddd'>32.09</td><td style='border: 1px solid #dddddd'>136.1</td><td style='border: 1px solid #dddddd'>1344.0</td><td style='border: 1px solid #dddddd'>0.1634</td><td style='border: 1px solid #dddddd'>0.3559</td><td style='border: 1px solid #dddddd'>0.5588</td><td style='border: 1px solid #dddddd'>0.1847</td><td style='border: 1px solid #dddddd'>0.353</td><td style='border: 1px solid #dddddd'>0.08482</td><td style='border: 1px solid #dddddd'>1.0</td><td style='border: 1px solid #dddddd'>2019-01-28 16:47:33.973000+00:00</td></tr><tr><td style='border: 1px solid #dddddd'>17.02</td><td style='border: 1px solid #dddddd'>23.98</td><td style='border: 1px solid #dddddd'>112.8</td><td style='border: 1px solid #dddddd'>899.3</td><td style='border: 1px solid #dddddd'>0.1197</td><td style='border: 1px solid #dddddd'>0.1496</td><td style='border: 1px solid #dddddd'>0.2417</td><td style='border: 1px solid #dddddd'>0.1203</td><td style='border: 1px solid #dddddd'>0.2248</td><td style='border: 1px solid #dddddd'>0.06382</td><td style='border: 1px solid #dddddd'>0.6009</td><td style='border: 1px solid #dddddd'>1.398</td><td style='border: 1px solid #dddddd'>3.999</td><td style='border: 1px solid #dddddd'>67.78</td><td style='border: 1px solid #dddddd'>0.008268</td><td style='border: 1px solid #dddddd'>0.03082</td><td style='border: 1px solid #dddddd'>0.05042</td><td style='border: 1px solid #dddddd'>0.01112</td><td style='border: 1px solid #dddddd'>0.02102</td><td style='border: 1px solid #dddddd'>0.003854</td><td style='border: 1px solid #dddddd'>20.88</td><td style='border: 1px solid #dddddd'>32.09</td><td style='border: 1px solid #dddddd'>136.1</td><td style='border: 1px solid #dddddd'>1344.0</td><td style='border: 1px solid #dddddd'>0.1634</td><td style='border: 1px solid #dddddd'>0.3559</td><td style='border: 1px solid #dddddd'>0.5588</td><td style='border: 1px solid #dddddd'>0.1847</td><td style='border: 1px solid #dddddd'>0.353</td><td style='border: 1px solid #dddddd'>0.08482</td><td style='border: 1px solid #dddddd'>1.0</td><td style='border: 1px solid #dddddd'>2019-01-28 16:47:33.973000+00:00</td></tr><tr><td style='border: 1px solid #dddddd'>17.02</td><td style='border: 1px solid #dddddd'>23.98</td><td style='border: 1px solid #dddddd'>112.8</td><td style='border: 1px solid #dddddd'>899.3</td><td style='border: 1px solid #dddddd'>0.1197</td><td style='border: 1px solid #dddddd'>0.1496</td><td style='border: 1px solid #dddddd'>0.2417</td><td style='border: 1px solid #dddddd'>0.1203</td><td style='border: 1px solid #dddddd'>0.2248</td><td style='border: 1px solid #dddddd'>0.06382</td><td style='border: 1px solid #dddddd'>0.6009</td><td style='border: 1px solid #dddddd'>1.398</td><td style='border: 1px solid #dddddd'>3.999</td><td style='border: 1px solid #dddddd'>67.78</td><td style='border: 1px solid #dddddd'>0.008268</td><td style='border: 1px solid #dddddd'>0.03082</td><td style='border: 1px solid #dddddd'>0.05042</td><td style='border: 1px solid #dddddd'>0.01112</td><td style='border: 1px solid #dddddd'>0.02102</td><td style='border: 1px solid #dddddd'>0.003854</td><td style='border: 1px solid #dddddd'>20.88</td><td style='border: 1px solid #dddddd'>32.09</td><td style='border: 1px solid #dddddd'>136.1</td><td style='border: 1px solid #dddddd'>1344.0</td><td style='border: 1px solid #dddddd'>0.1634</td><td style='border: 1px solid #dddddd'>0.3559</td><td style='border: 1px solid #dddddd'>0.5588</td><td style='border: 1px solid #dddddd'>0.1847</td><td style='border: 1px solid #dddddd'>0.353</td><td style='border: 1px solid #dddddd'>0.08482</td><td style='border: 1px solid #dddddd'>1.0</td><td style='border: 1px solid #dddddd'>2019-01-28 16:47:33.973000+00:00</td></tr><tr><td style='border: 1px solid #dddddd'>17.02</td><td style='border: 1px solid #dddddd'>23.98</td><td style='border: 1px solid #dddddd'>112.8</td><td style='border: 1px solid #dddddd'>899.3</td><td style='border: 1px solid #dddddd'>0.1197</td><td style='border: 1px solid #dddddd'>0.1496</td><td style='border: 1px solid #dddddd'>0.2417</td><td style='border: 1px solid #dddddd'>0.1203</td><td style='border: 1px solid #dddddd'>0.2248</td><td style='border: 1px solid #dddddd'>0.06382</td><td style='border: 1px solid #dddddd'>0.6009</td><td style='border: 1px solid #dddddd'>1.398</td><td style='border: 1px solid #dddddd'>3.999</td><td style='border: 1px solid #dddddd'>67.78</td><td style='border: 1px solid #dddddd'>0.008268</td><td style='border: 1px solid #dddddd'>0.03082</td><td style='border: 1px solid #dddddd'>0.05042</td><td style='border: 1px solid #dddddd'>0.01112</td><td style='border: 1px solid #dddddd'>0.02102</td><td style='border: 1px solid #dddddd'>0.003854</td><td style='border: 1px solid #dddddd'>20.88</td><td style='border: 1px solid #dddddd'>32.09</td><td style='border: 1px solid #dddddd'>136.1</td><td style='border: 1px solid #dddddd'>1344.0</td><td style='border: 1px solid #dddddd'>0.1634</td><td style='border: 1px solid #dddddd'>0.3559</td><td style='border: 1px solid #dddddd'>0.5588</td><td style='border: 1px solid #dddddd'>0.1847</td><td style='border: 1px solid #dddddd'>0.353</td><td style='border: 1px solid #dddddd'>0.08482</td><td style='border: 1px solid #dddddd'>1.0</td><td style='border: 1px solid #dddddd'>2019-01-28 16:47:33.973000+00:00</td></tr><tr><td style='border: 1px solid #dddddd'>17.02</td><td style='border: 1px solid #dddddd'>23.98</td><td style='border: 1px solid #dddddd'>112.8</td><td style='border: 1px solid #dddddd'>899.3</td><td style='border: 1px solid #dddddd'>0.1197</td><td style='border: 1px solid #dddddd'>0.1496</td><td style='border: 1px solid #dddddd'>0.2417</td><td style='border: 1px solid #dddddd'>0.1203</td><td style='border: 1px solid #dddddd'>0.2248</td><td style='border: 1px solid #dddddd'>0.06382</td><td style='border: 1px solid #dddddd'>0.6009</td><td style='border: 1px solid #dddddd'>1.398</td><td style='border: 1px solid #dddddd'>3.999</td><td style='border: 1px solid #dddddd'>67.78</td><td style='border: 1px solid #dddddd'>0.008268</td><td style='border: 1px solid #dddddd'>0.03082</td><td style='border: 1px solid #dddddd'>0.05042</td><td style='border: 1px solid #dddddd'>0.01112</td><td style='border: 1px solid #dddddd'>0.02102</td><td style='border: 1px solid #dddddd'>0.003854</td><td style='border: 1px solid #dddddd'>20.88</td><td style='border: 1px solid #dddddd'>32.09</td><td style='border: 1px solid #dddddd'>136.1</td><td style='border: 1px solid #dddddd'>1344.0</td><td style='border: 1px solid #dddddd'>0.1634</td><td style='border: 1px solid #dddddd'>0.3559</td><td style='border: 1px solid #dddddd'>0.5588</td><td style='border: 1px solid #dddddd'>0.1847</td><td style='border: 1px solid #dddddd'>0.353</td><td style='border: 1px solid #dddddd'>0.08482</td><td style='border: 1px solid #dddddd'>1.0</td><td style='border: 1px solid #dddddd'>2019-01-28 16:47:33.973000+00:00</td></tr><tr><td style='border: 1px solid #dddddd'>17.02</td><td style='border: 1px solid #dddddd'>23.98</td><td style='border: 1px solid #dddddd'>112.8</td><td style='border: 1px solid #dddddd'>899.3</td><td style='border: 1px solid #dddddd'>0.1197</td><td style='border: 1px solid #dddddd'>0.1496</td><td style='border: 1px solid #dddddd'>0.2417</td><td style='border: 1px solid #dddddd'>0.1203</td><td style='border: 1px solid #dddddd'>0.2248</td><td style='border: 1px solid #dddddd'>0.06382</td><td style='border: 1px solid #dddddd'>0.6009</td><td style='border: 1px solid #dddddd'>1.398</td><td style='border: 1px solid #dddddd'>3.999</td><td style='border: 1px solid #dddddd'>67.78</td><td style='border: 1px solid #dddddd'>0.008268</td><td style='border: 1px solid #dddddd'>0.03082</td><td style='border: 1px solid #dddddd'>0.05042</td><td style='border: 1px solid #dddddd'>0.01112</td><td style='border: 1px solid #dddddd'>0.02102</td><td style='border: 1px solid #dddddd'>0.003854</td><td style='border: 1px solid #dddddd'>20.88</td><td style='border: 1px solid #dddddd'>32.09</td><td style='border: 1px solid #dddddd'>136.1</td><td style='border: 1px solid #dddddd'>1344.0</td><td style='border: 1px solid #dddddd'>0.1634</td><td style='border: 1px solid #dddddd'>0.3559</td><td style='border: 1px solid #dddddd'>0.5588</td><td style='border: 1px solid #dddddd'>0.1847</td><td style='border: 1px solid #dddddd'>0.353</td><td style='border: 1px solid #dddddd'>0.08482</td><td style='border: 1px solid #dddddd'>1.0</td><td style='border: 1px solid #dddddd'>2019-01-28 16:47:33.973000+00:00</td></tr>\n",
       "            </table>\n",
       "        </body>\n",
       "        </HTML>"
      ],
      "text/plain": [
       "<IPython.core.display.HTML object>"
      ]
     },
     "metadata": {},
     "output_type": "display_data"
    }
   ],
   "source": [
    "subscription.feedback_logging.show_table()"
   ]
  },
  {
   "cell_type": "markdown",
   "metadata": {},
   "source": [
    "Describe the table (calulcate basic statistics)."
   ]
  },
  {
   "cell_type": "code",
   "execution_count": 95,
   "metadata": {},
   "outputs": [
    {
     "name": "stdout",
     "output_type": "stream",
     "text": [
      "       radius_mean  texture_mean  perimeter_mean  area_mean  smoothness_mean  \\\n",
      "count         9.00          9.00             9.0        9.0     9.000000e+00   \n",
      "mean         17.02         23.98           112.8      899.3     1.197000e-01   \n",
      "std           0.00          0.00             0.0        0.0     1.471962e-17   \n",
      "min          17.02         23.98           112.8      899.3     1.197000e-01   \n",
      "25%          17.02         23.98           112.8      899.3     1.197000e-01   \n",
      "50%          17.02         23.98           112.8      899.3     1.197000e-01   \n",
      "75%          17.02         23.98           112.8      899.3     1.197000e-01   \n",
      "max          17.02         23.98           112.8      899.3     1.197000e-01   \n",
      "\n",
      "       compactness_mean  concavity_mean  concave points_mean  symmetry_mean  \\\n",
      "count            9.0000          9.0000               9.0000         9.0000   \n",
      "mean             0.1496          0.2417               0.1203         0.2248   \n",
      "std              0.0000          0.0000               0.0000         0.0000   \n",
      "min              0.1496          0.2417               0.1203         0.2248   \n",
      "25%              0.1496          0.2417               0.1203         0.2248   \n",
      "50%              0.1496          0.2417               0.1203         0.2248   \n",
      "75%              0.1496          0.2417               0.1203         0.2248   \n",
      "max              0.1496          0.2417               0.1203         0.2248   \n",
      "\n",
      "       fractal_dimension_mean    ...      texture_worst  perimeter_worst  \\\n",
      "count                 9.00000    ...               9.00              9.0   \n",
      "mean                  0.06382    ...              32.09            136.1   \n",
      "std                   0.00000    ...               0.00              0.0   \n",
      "min                   0.06382    ...              32.09            136.1   \n",
      "25%                   0.06382    ...              32.09            136.1   \n",
      "50%                   0.06382    ...              32.09            136.1   \n",
      "75%                   0.06382    ...              32.09            136.1   \n",
      "max                   0.06382    ...              32.09            136.1   \n",
      "\n",
      "       area_worst  smoothness_worst  compactness_worst  concavity_worst  \\\n",
      "count         9.0            9.0000             9.0000           9.0000   \n",
      "mean       1344.0            0.1634             0.3559           0.5588   \n",
      "std           0.0            0.0000             0.0000           0.0000   \n",
      "min        1344.0            0.1634             0.3559           0.5588   \n",
      "25%        1344.0            0.1634             0.3559           0.5588   \n",
      "50%        1344.0            0.1634             0.3559           0.5588   \n",
      "75%        1344.0            0.1634             0.3559           0.5588   \n",
      "max        1344.0            0.1634             0.3559           0.5588   \n",
      "\n",
      "       concave points_worst  symmetry_worst  fractal_dimension_worst  \\\n",
      "count                9.0000           9.000                  9.00000   \n",
      "mean                 0.1847           0.353                  0.08482   \n",
      "std                  0.0000           0.000                  0.00000   \n",
      "min                  0.1847           0.353                  0.08482   \n",
      "25%                  0.1847           0.353                  0.08482   \n",
      "50%                  0.1847           0.353                  0.08482   \n",
      "75%                  0.1847           0.353                  0.08482   \n",
      "max                  0.1847           0.353                  0.08482   \n",
      "\n",
      "       diagnosis  \n",
      "count        9.0  \n",
      "mean         1.0  \n",
      "std          0.0  \n",
      "min          1.0  \n",
      "25%          1.0  \n",
      "50%          1.0  \n",
      "75%          1.0  \n",
      "max          1.0  \n",
      "\n",
      "[8 rows x 31 columns]\n"
     ]
    }
   ],
   "source": [
    "subscription.feedback_logging.describe_table()"
   ]
  },
  {
   "cell_type": "markdown",
   "metadata": {},
   "source": [
    "Get the table content."
   ]
  },
  {
   "cell_type": "code",
   "execution_count": 96,
   "metadata": {},
   "outputs": [],
   "source": [
    "feedback_pd = subscription.feedback_logging.get_table_content(format='pandas')"
   ]
  },
  {
   "cell_type": "markdown",
   "metadata": {},
   "source": [
    "### 6.3 Quality metrics table"
   ]
  },
  {
   "cell_type": "code",
   "execution_count": 97,
   "metadata": {},
   "outputs": [
    {
     "data": {
      "text/html": [
       "<HTML>\n",
       "        <body>\n",
       "            <h3>Schema of QualityMetrics</h3>\n",
       "            <table style='border: 1px solid #dddddd; font-family: Courier'>\n",
       "                <th style='border: 1px solid #dddddd'>name</th><th style='border: 1px solid #dddddd'>type</th><th style='border: 1px solid #dddddd'>nullable</th>\n",
       "                <tr><td style='border: 1px solid #dddddd'>ts</td><td style='border: 1px solid #dddddd'>timestamp</td><td style='border: 1px solid #dddddd'>False</td></tr><tr><td style='border: 1px solid #dddddd'>quality</td><td style='border: 1px solid #dddddd'>float</td><td style='border: 1px solid #dddddd'>False</td></tr><tr><td style='border: 1px solid #dddddd'>quality_threshold</td><td style='border: 1px solid #dddddd'>float</td><td style='border: 1px solid #dddddd'>False</td></tr><tr><td style='border: 1px solid #dddddd'>binding_id</td><td style='border: 1px solid #dddddd'>string</td><td style='border: 1px solid #dddddd'>False</td></tr><tr><td style='border: 1px solid #dddddd'>subscription_id</td><td style='border: 1px solid #dddddd'>string</td><td style='border: 1px solid #dddddd'>False</td></tr><tr><td style='border: 1px solid #dddddd'>deployment_id</td><td style='border: 1px solid #dddddd'>string</td><td style='border: 1px solid #dddddd'>True</td></tr><tr><td style='border: 1px solid #dddddd'>process</td><td style='border: 1px solid #dddddd'>string</td><td style='border: 1px solid #dddddd'>False</td></tr><tr><td style='border: 1px solid #dddddd'>asset_revision</td><td style='border: 1px solid #dddddd'>string</td><td style='border: 1px solid #dddddd'>True</td></tr>\n",
       "            </table>\n",
       "        </body>\n",
       "        </HTML>"
      ],
      "text/plain": [
       "<IPython.core.display.HTML object>"
      ]
     },
     "metadata": {},
     "output_type": "display_data"
    }
   ],
   "source": [
    "subscription.quality_monitoring.print_table_schema()"
   ]
  },
  {
   "cell_type": "code",
   "execution_count": 98,
   "metadata": {},
   "outputs": [
    {
     "data": {
      "text/html": [
       "<HTML>\n",
       "        <body>\n",
       "            <h3>QualityMetrics (binding_id=152fdb6f-4c8c-43cc-b2e4-73cf388844ef, subscription_id=70b2a1a8cb6b8950ffd2b65afb9236de)</h3>\n",
       "            <table style='border: 1px solid #dddddd; font-family: Courier'>\n",
       "                <th style='border: 1px solid #dddddd'>ts</th><th style='border: 1px solid #dddddd'>quality</th><th style='border: 1px solid #dddddd'>quality_threshold</th><th style='border: 1px solid #dddddd'>binding_id</th><th style='border: 1px solid #dddddd'>subscription_id</th><th style='border: 1px solid #dddddd'>deployment_id</th><th style='border: 1px solid #dddddd'>process</th><th style='border: 1px solid #dddddd'>asset_revision</th>\n",
       "                <tr><td style='border: 1px solid #dddddd'>2019-01-28 16:47:38.105000+00:00</td><td style='border: 1px solid #dddddd'>1.0</td><td style='border: 1px solid #dddddd'>0.7</td><td style='border: 1px solid #dddddd'>152fdb6f-4c8c-43cc-b2e4-73cf388844ef</td><td style='border: 1px solid #dddddd'>70b2a1a8cb6b8950ffd2b65afb9236de</td><td style='border: 1px solid #dddddd'>865ac8c78c11d062c76138af425834ca</td><td style='border: 1px solid #dddddd'>Accuracy_evaluation_01d14a4d-4dd1-46d5-9906-8a112f01bdc4</td><td style='border: 1px solid #dddddd'></td></tr>\n",
       "            </table>\n",
       "        </body>\n",
       "        </HTML>"
      ],
      "text/plain": [
       "<IPython.core.display.HTML object>"
      ]
     },
     "metadata": {},
     "output_type": "display_data"
    }
   ],
   "source": [
    "subscription.quality_monitoring.show_table()"
   ]
  },
  {
   "cell_type": "markdown",
   "metadata": {},
   "source": [
    "### 6.4 Performance metrics table"
   ]
  },
  {
   "cell_type": "code",
   "execution_count": 99,
   "metadata": {},
   "outputs": [
    {
     "data": {
      "text/html": [
       "<HTML>\n",
       "        <body>\n",
       "            <h3>Schema of PerformanceMetrics</h3>\n",
       "            <table style='border: 1px solid #dddddd; font-family: Courier'>\n",
       "                <th style='border: 1px solid #dddddd'>name</th><th style='border: 1px solid #dddddd'>type</th><th style='border: 1px solid #dddddd'>nullable</th>\n",
       "                <tr><td style='border: 1px solid #dddddd'>ts</td><td style='border: 1px solid #dddddd'>timestamp</td><td style='border: 1px solid #dddddd'>False</td></tr><tr><td style='border: 1px solid #dddddd'>scoring_time</td><td style='border: 1px solid #dddddd'>float</td><td style='border: 1px solid #dddddd'>False</td></tr><tr><td style='border: 1px solid #dddddd'>scoring_records</td><td style='border: 1px solid #dddddd'>object</td><td style='border: 1px solid #dddddd'>False</td></tr><tr><td style='border: 1px solid #dddddd'>binding_id</td><td style='border: 1px solid #dddddd'>string</td><td style='border: 1px solid #dddddd'>False</td></tr><tr><td style='border: 1px solid #dddddd'>subscription_id</td><td style='border: 1px solid #dddddd'>string</td><td style='border: 1px solid #dddddd'>False</td></tr><tr><td style='border: 1px solid #dddddd'>deployment_id</td><td style='border: 1px solid #dddddd'>string</td><td style='border: 1px solid #dddddd'>True</td></tr><tr><td style='border: 1px solid #dddddd'>process</td><td style='border: 1px solid #dddddd'>string</td><td style='border: 1px solid #dddddd'>False</td></tr><tr><td style='border: 1px solid #dddddd'>asset_revision</td><td style='border: 1px solid #dddddd'>string</td><td style='border: 1px solid #dddddd'>True</td></tr>\n",
       "            </table>\n",
       "        </body>\n",
       "        </HTML>"
      ],
      "text/plain": [
       "<IPython.core.display.HTML object>"
      ]
     },
     "metadata": {},
     "output_type": "display_data"
    }
   ],
   "source": [
    "subscription.performance_monitoring.print_table_schema()"
   ]
  },
  {
   "cell_type": "code",
   "execution_count": 100,
   "metadata": {},
   "outputs": [
    {
     "data": {
      "text/html": [
       "<HTML>\n",
       "        <body>\n",
       "            <h3>PerformanceMetrics (binding_id=152fdb6f-4c8c-43cc-b2e4-73cf388844ef, subscription_id=70b2a1a8cb6b8950ffd2b65afb9236de)</h3>\n",
       "            <table style='border: 1px solid #dddddd; font-family: Courier'>\n",
       "                <th style='border: 1px solid #dddddd'>ts</th><th style='border: 1px solid #dddddd'>scoring_time</th><th style='border: 1px solid #dddddd'>scoring_records</th><th style='border: 1px solid #dddddd'>binding_id</th><th style='border: 1px solid #dddddd'>subscription_id</th><th style='border: 1px solid #dddddd'>deployment_id</th><th style='border: 1px solid #dddddd'>process</th><th style='border: 1px solid #dddddd'>asset_revision</th>\n",
       "                <tr><td style='border: 1px solid #dddddd'>2019-01-28 16:47:14.699834+00:00</td><td style='border: 1px solid #dddddd'>462.0</td><td style='border: 1px solid #dddddd'>2</td><td style='border: 1px solid #dddddd'>152fdb6f-4c8c-43cc-b2e4-73cf388844ef</td><td style='border: 1px solid #dddddd'>70b2a1a8cb6b8950ffd2b65afb9236de</td><td style='border: 1px solid #dddddd'>865ac8c78c11d062c76138af425834ca</td><td style='border: 1px solid #dddddd'></td><td style='border: 1px solid #dddddd'></td></tr><tr><td style='border: 1px solid #dddddd'>2019-01-28 16:47:14.699933+00:00</td><td style='border: 1px solid #dddddd'>462.0</td><td style='border: 1px solid #dddddd'>2</td><td style='border: 1px solid #dddddd'>152fdb6f-4c8c-43cc-b2e4-73cf388844ef</td><td style='border: 1px solid #dddddd'>70b2a1a8cb6b8950ffd2b65afb9236de</td><td style='border: 1px solid #dddddd'>865ac8c78c11d062c76138af425834ca</td><td style='border: 1px solid #dddddd'></td><td style='border: 1px solid #dddddd'></td></tr><tr><td style='border: 1px solid #dddddd'>2019-01-28 16:47:14.699817+00:00</td><td style='border: 1px solid #dddddd'>462.0</td><td style='border: 1px solid #dddddd'>2</td><td style='border: 1px solid #dddddd'>152fdb6f-4c8c-43cc-b2e4-73cf388844ef</td><td style='border: 1px solid #dddddd'>70b2a1a8cb6b8950ffd2b65afb9236de</td><td style='border: 1px solid #dddddd'>865ac8c78c11d062c76138af425834ca</td><td style='border: 1px solid #dddddd'></td><td style='border: 1px solid #dddddd'></td></tr><tr><td style='border: 1px solid #dddddd'>2019-01-28 16:47:14.699917+00:00</td><td style='border: 1px solid #dddddd'>462.0</td><td style='border: 1px solid #dddddd'>2</td><td style='border: 1px solid #dddddd'>152fdb6f-4c8c-43cc-b2e4-73cf388844ef</td><td style='border: 1px solid #dddddd'>70b2a1a8cb6b8950ffd2b65afb9236de</td><td style='border: 1px solid #dddddd'>865ac8c78c11d062c76138af425834ca</td><td style='border: 1px solid #dddddd'></td><td style='border: 1px solid #dddddd'></td></tr><tr><td style='border: 1px solid #dddddd'>2019-01-28 16:47:14.699772+00:00</td><td style='border: 1px solid #dddddd'>462.0</td><td style='border: 1px solid #dddddd'>2</td><td style='border: 1px solid #dddddd'>152fdb6f-4c8c-43cc-b2e4-73cf388844ef</td><td style='border: 1px solid #dddddd'>70b2a1a8cb6b8950ffd2b65afb9236de</td><td style='border: 1px solid #dddddd'>865ac8c78c11d062c76138af425834ca</td><td style='border: 1px solid #dddddd'></td><td style='border: 1px solid #dddddd'></td></tr><tr><td style='border: 1px solid #dddddd'>2019-01-28 16:47:14.699884+00:00</td><td style='border: 1px solid #dddddd'>462.0</td><td style='border: 1px solid #dddddd'>2</td><td style='border: 1px solid #dddddd'>152fdb6f-4c8c-43cc-b2e4-73cf388844ef</td><td style='border: 1px solid #dddddd'>70b2a1a8cb6b8950ffd2b65afb9236de</td><td style='border: 1px solid #dddddd'>865ac8c78c11d062c76138af425834ca</td><td style='border: 1px solid #dddddd'></td><td style='border: 1px solid #dddddd'></td></tr><tr><td style='border: 1px solid #dddddd'>2019-01-28 16:47:14.699850+00:00</td><td style='border: 1px solid #dddddd'>462.0</td><td style='border: 1px solid #dddddd'>2</td><td style='border: 1px solid #dddddd'>152fdb6f-4c8c-43cc-b2e4-73cf388844ef</td><td style='border: 1px solid #dddddd'>70b2a1a8cb6b8950ffd2b65afb9236de</td><td style='border: 1px solid #dddddd'>865ac8c78c11d062c76138af425834ca</td><td style='border: 1px solid #dddddd'></td><td style='border: 1px solid #dddddd'></td></tr><tr><td style='border: 1px solid #dddddd'>2019-01-28 16:47:14.699799+00:00</td><td style='border: 1px solid #dddddd'>462.0</td><td style='border: 1px solid #dddddd'>2</td><td style='border: 1px solid #dddddd'>152fdb6f-4c8c-43cc-b2e4-73cf388844ef</td><td style='border: 1px solid #dddddd'>70b2a1a8cb6b8950ffd2b65afb9236de</td><td style='border: 1px solid #dddddd'>865ac8c78c11d062c76138af425834ca</td><td style='border: 1px solid #dddddd'></td><td style='border: 1px solid #dddddd'></td></tr><tr><td style='border: 1px solid #dddddd'>2019-01-28 16:47:14.699900+00:00</td><td style='border: 1px solid #dddddd'>462.0</td><td style='border: 1px solid #dddddd'>2</td><td style='border: 1px solid #dddddd'>152fdb6f-4c8c-43cc-b2e4-73cf388844ef</td><td style='border: 1px solid #dddddd'>70b2a1a8cb6b8950ffd2b65afb9236de</td><td style='border: 1px solid #dddddd'>865ac8c78c11d062c76138af425834ca</td><td style='border: 1px solid #dddddd'></td><td style='border: 1px solid #dddddd'></td></tr><tr><td style='border: 1px solid #dddddd'>2019-01-28 16:47:14.699723+00:00</td><td style='border: 1px solid #dddddd'>462.0</td><td style='border: 1px solid #dddddd'>2</td><td style='border: 1px solid #dddddd'>152fdb6f-4c8c-43cc-b2e4-73cf388844ef</td><td style='border: 1px solid #dddddd'>70b2a1a8cb6b8950ffd2b65afb9236de</td><td style='border: 1px solid #dddddd'>865ac8c78c11d062c76138af425834ca</td><td style='border: 1px solid #dddddd'></td><td style='border: 1px solid #dddddd'></td></tr>\n",
       "            </table>\n",
       "        </body>\n",
       "        </HTML>"
      ],
      "text/plain": [
       "<IPython.core.display.HTML object>"
      ]
     },
     "metadata": {},
     "output_type": "display_data"
    }
   ],
   "source": [
    "subscription.performance_monitoring.show_table()"
   ]
  },
  {
   "cell_type": "markdown",
   "metadata": {},
   "source": [
    "### 6.5 Data Mart measurement facts table"
   ]
  },
  {
   "cell_type": "code",
   "execution_count": 101,
   "metadata": {},
   "outputs": [
    {
     "data": {
      "text/plain": [
       "{'deployment_metrics': [{'subscription': {'subscription_id': '70b2a1a8cb6b8950ffd2b65afb9236de',\n",
       "    'url': '/v1/data_marts/b873054a-9264-48c4-bcfe-c462ac3b8cf8/service_bindings/152fdb6f-4c8c-43cc-b2e4-73cf388844ef/subscriptions/70b2a1a8cb6b8950ffd2b65afb9236de'},\n",
       "   'asset': {'name': 'Breast-cancer-linear-learner-2019-01-28-16-13',\n",
       "    'asset_id': '70b2a1a8cb6b8950ffd2b65afb9236de',\n",
       "    'url': 's3://scottda-sagemaker-us-east-2/breast-cancer/output/Breast-cancer-linear-learner-2019-01-28-16-13/output/model.tar.gz',\n",
       "    'asset_type': 'model',\n",
       "    'created_at': '2019-01-28T16:19:02.652Z'},\n",
       "   'deployment': {'name': 'Breast-cancer-endpoint-scoring-2019-01-28-16-13',\n",
       "    'url': 'Breast-cancer-endpoint-scoring-2019-01-28-16-13',\n",
       "    'deployment_type': 'online',\n",
       "    'scoring_endpoint': {'url': 'Breast-cancer-endpoint-scoring-2019-01-28-16-13',\n",
       "     'request_headers': {'Content-Type': 'application/json'}},\n",
       "    'deployment_rn': 'arn:aws:sagemaker:us-east-2:014862798213:endpoint/breast-cancer-endpoint-scoring-2019-01-28-16-13',\n",
       "    'created_at': '2019-01-28T16:24:37.361Z',\n",
       "    'deployment_id': '865ac8c78c11d062c76138af425834ca'},\n",
       "   'metrics': [{'metric_type': 'performance',\n",
       "     'value': {'records': 2, 'response_time': 462.0},\n",
       "     'issues': 0,\n",
       "     'timestamp': '2019-01-28T16:47:14.699933Z'},\n",
       "    {'metric_type': 'quality',\n",
       "     'value': {'metrics': [{'name': 'weightedTruePositiveRate', 'value': 1.0},\n",
       "       {'name': 'accuracy', 'value': 1.0},\n",
       "       {'name': 'weightedFMeasure', 'value': 1.0},\n",
       "       {'name': 'weightedRecall', 'value': 1.0},\n",
       "       {'name': 'weightedFalsePositiveRate', 'value': None},\n",
       "       {'name': 'weightedPrecision', 'value': 1.0}],\n",
       "      'quality': 1.0,\n",
       "      'threshold': 0.7},\n",
       "     'issues': 0,\n",
       "     'timestamp': '2019-01-28T16:47:38.105Z'}]}]}"
      ]
     },
     "execution_count": 101,
     "metadata": {},
     "output_type": "execute_result"
    }
   ],
   "source": [
    "client.data_mart.get_deployment_metrics()"
   ]
  },
  {
   "cell_type": "markdown",
   "metadata": {},
   "source": [
    "---"
   ]
  },
  {
   "cell_type": "markdown",
   "metadata": {},
   "source": [
    "### Authors\n",
    "Lukasz Cmielowski, PhD, is an Automation Architect and Data Scientist at IBM with a track record of developing enterprise-level applications that substantially increases clients' ability to turn data into actionable knowledge."
   ]
  }
 ],
 "metadata": {
  "kernelspec": {
   "display_name": "Python 3",
   "language": "python",
   "name": "python3"
  },
  "language_info": {
   "codemirror_mode": {
    "name": "ipython",
    "version": 3
   },
   "file_extension": ".py",
   "mimetype": "text/x-python",
   "name": "python",
   "nbconvert_exporter": "python",
   "pygments_lexer": "ipython3",
   "version": "3.6.5"
  }
 },
 "nbformat": 4,
 "nbformat_minor": 2
}
